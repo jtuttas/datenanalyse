{
 "cells": [
  {
   "cell_type": "code",
   "execution_count": 2,
   "metadata": {},
   "outputs": [
    {
     "name": "stdout",
     "output_type": "stream",
     "text": [
      "Epoch 1/100\n",
      "1/1 [==============================] - 1s 1s/step - loss: 0.7384 - accuracy: 0.2500\n",
      "Epoch 2/100\n",
      "1/1 [==============================] - 0s 13ms/step - loss: 0.7373 - accuracy: 0.5000\n",
      "Epoch 3/100\n",
      "1/1 [==============================] - 0s 16ms/step - loss: 0.7363 - accuracy: 0.5000\n",
      "Epoch 4/100\n",
      "1/1 [==============================] - 0s 13ms/step - loss: 0.7352 - accuracy: 0.5000\n",
      "Epoch 5/100\n",
      "1/1 [==============================] - 0s 13ms/step - loss: 0.7342 - accuracy: 0.5000\n",
      "Epoch 6/100\n",
      "1/1 [==============================] - 0s 14ms/step - loss: 0.7332 - accuracy: 0.5000\n",
      "Epoch 7/100\n",
      "1/1 [==============================] - 0s 13ms/step - loss: 0.7321 - accuracy: 0.5000\n",
      "Epoch 8/100\n",
      "1/1 [==============================] - 0s 13ms/step - loss: 0.7311 - accuracy: 0.5000\n",
      "Epoch 9/100\n",
      "1/1 [==============================] - 0s 11ms/step - loss: 0.7301 - accuracy: 0.5000\n",
      "Epoch 10/100\n",
      "1/1 [==============================] - 0s 13ms/step - loss: 0.7290 - accuracy: 0.5000\n",
      "Epoch 11/100\n",
      "1/1 [==============================] - 0s 14ms/step - loss: 0.7280 - accuracy: 0.5000\n",
      "Epoch 12/100\n",
      "1/1 [==============================] - 0s 12ms/step - loss: 0.7270 - accuracy: 0.5000\n",
      "Epoch 13/100\n",
      "1/1 [==============================] - 0s 14ms/step - loss: 0.7259 - accuracy: 0.5000\n",
      "Epoch 14/100\n",
      "1/1 [==============================] - 0s 14ms/step - loss: 0.7249 - accuracy: 0.5000\n",
      "Epoch 15/100\n",
      "1/1 [==============================] - 0s 12ms/step - loss: 0.7239 - accuracy: 0.5000\n",
      "Epoch 16/100\n",
      "1/1 [==============================] - 0s 12ms/step - loss: 0.7229 - accuracy: 0.5000\n",
      "Epoch 17/100\n",
      "1/1 [==============================] - 0s 16ms/step - loss: 0.7219 - accuracy: 0.5000\n",
      "Epoch 18/100\n",
      "1/1 [==============================] - 0s 44ms/step - loss: 0.7208 - accuracy: 0.5000\n",
      "Epoch 19/100\n",
      "1/1 [==============================] - 0s 35ms/step - loss: 0.7198 - accuracy: 0.5000\n",
      "Epoch 20/100\n",
      "1/1 [==============================] - 0s 13ms/step - loss: 0.7188 - accuracy: 0.5000\n",
      "Epoch 21/100\n",
      "1/1 [==============================] - 0s 12ms/step - loss: 0.7178 - accuracy: 0.5000\n",
      "Epoch 22/100\n",
      "1/1 [==============================] - 0s 15ms/step - loss: 0.7168 - accuracy: 0.5000\n",
      "Epoch 23/100\n",
      "1/1 [==============================] - 0s 19ms/step - loss: 0.7158 - accuracy: 0.5000\n",
      "Epoch 24/100\n",
      "1/1 [==============================] - 0s 13ms/step - loss: 0.7148 - accuracy: 0.5000\n",
      "Epoch 25/100\n",
      "1/1 [==============================] - 0s 13ms/step - loss: 0.7138 - accuracy: 0.7500\n",
      "Epoch 26/100\n",
      "1/1 [==============================] - 0s 12ms/step - loss: 0.7128 - accuracy: 0.7500\n",
      "Epoch 27/100\n",
      "1/1 [==============================] - 0s 13ms/step - loss: 0.7118 - accuracy: 0.7500\n",
      "Epoch 28/100\n",
      "1/1 [==============================] - 0s 13ms/step - loss: 0.7108 - accuracy: 0.7500\n",
      "Epoch 29/100\n",
      "1/1 [==============================] - 0s 10ms/step - loss: 0.7098 - accuracy: 0.7500\n",
      "Epoch 30/100\n",
      "1/1 [==============================] - 0s 11ms/step - loss: 0.7088 - accuracy: 0.7500\n",
      "Epoch 31/100\n",
      "1/1 [==============================] - 0s 14ms/step - loss: 0.7078 - accuracy: 0.7500\n",
      "Epoch 32/100\n",
      "1/1 [==============================] - 0s 13ms/step - loss: 0.7068 - accuracy: 0.7500\n",
      "Epoch 33/100\n",
      "1/1 [==============================] - 0s 13ms/step - loss: 0.7059 - accuracy: 0.7500\n",
      "Epoch 34/100\n",
      "1/1 [==============================] - 0s 15ms/step - loss: 0.7049 - accuracy: 0.7500\n",
      "Epoch 35/100\n",
      "1/1 [==============================] - 0s 13ms/step - loss: 0.7039 - accuracy: 0.7500\n",
      "Epoch 36/100\n",
      "1/1 [==============================] - 0s 14ms/step - loss: 0.7029 - accuracy: 0.7500\n",
      "Epoch 37/100\n",
      "1/1 [==============================] - 0s 16ms/step - loss: 0.7019 - accuracy: 0.7500\n",
      "Epoch 38/100\n",
      "1/1 [==============================] - 0s 19ms/step - loss: 0.7010 - accuracy: 0.7500\n",
      "Epoch 39/100\n",
      "1/1 [==============================] - 0s 17ms/step - loss: 0.7000 - accuracy: 0.7500\n",
      "Epoch 40/100\n",
      "1/1 [==============================] - 0s 15ms/step - loss: 0.6990 - accuracy: 0.7500\n",
      "Epoch 41/100\n",
      "1/1 [==============================] - 0s 16ms/step - loss: 0.6981 - accuracy: 0.7500\n",
      "Epoch 42/100\n",
      "1/1 [==============================] - 0s 14ms/step - loss: 0.6971 - accuracy: 0.7500\n",
      "Epoch 43/100\n",
      "1/1 [==============================] - 0s 13ms/step - loss: 0.6961 - accuracy: 0.7500\n",
      "Epoch 44/100\n",
      "1/1 [==============================] - 0s 21ms/step - loss: 0.6952 - accuracy: 0.7500\n",
      "Epoch 45/100\n",
      "1/1 [==============================] - 0s 20ms/step - loss: 0.6942 - accuracy: 0.7500\n",
      "Epoch 46/100\n",
      "1/1 [==============================] - 0s 15ms/step - loss: 0.6932 - accuracy: 0.7500\n",
      "Epoch 47/100\n",
      "1/1 [==============================] - 0s 17ms/step - loss: 0.6923 - accuracy: 0.7500\n",
      "Epoch 48/100\n",
      "1/1 [==============================] - 0s 14ms/step - loss: 0.6913 - accuracy: 0.7500\n",
      "Epoch 49/100\n",
      "1/1 [==============================] - 0s 45ms/step - loss: 0.6904 - accuracy: 0.7500\n",
      "Epoch 50/100\n",
      "1/1 [==============================] - 0s 13ms/step - loss: 0.6894 - accuracy: 0.7500\n",
      "Epoch 51/100\n",
      "1/1 [==============================] - 0s 13ms/step - loss: 0.6885 - accuracy: 0.7500\n",
      "Epoch 52/100\n",
      "1/1 [==============================] - 0s 17ms/step - loss: 0.6876 - accuracy: 0.7500\n",
      "Epoch 53/100\n",
      "1/1 [==============================] - 0s 16ms/step - loss: 0.6866 - accuracy: 0.7500\n",
      "Epoch 54/100\n",
      "1/1 [==============================] - 0s 14ms/step - loss: 0.6857 - accuracy: 0.7500\n",
      "Epoch 55/100\n",
      "1/1 [==============================] - 0s 13ms/step - loss: 0.6847 - accuracy: 0.7500\n",
      "Epoch 56/100\n",
      "1/1 [==============================] - 0s 13ms/step - loss: 0.6838 - accuracy: 0.7500\n",
      "Epoch 57/100\n",
      "1/1 [==============================] - 0s 15ms/step - loss: 0.6829 - accuracy: 0.7500\n",
      "Epoch 58/100\n",
      "1/1 [==============================] - 0s 11ms/step - loss: 0.6819 - accuracy: 0.7500\n",
      "Epoch 59/100\n",
      "1/1 [==============================] - 0s 13ms/step - loss: 0.6810 - accuracy: 0.7500\n",
      "Epoch 60/100\n",
      "1/1 [==============================] - 0s 15ms/step - loss: 0.6801 - accuracy: 0.7500\n",
      "Epoch 61/100\n",
      "1/1 [==============================] - 0s 15ms/step - loss: 0.6792 - accuracy: 0.7500\n",
      "Epoch 62/100\n",
      "1/1 [==============================] - 0s 15ms/step - loss: 0.6782 - accuracy: 0.7500\n",
      "Epoch 63/100\n",
      "1/1 [==============================] - 0s 11ms/step - loss: 0.6773 - accuracy: 0.7500\n",
      "Epoch 64/100\n",
      "1/1 [==============================] - 0s 11ms/step - loss: 0.6764 - accuracy: 0.7500\n",
      "Epoch 65/100\n",
      "1/1 [==============================] - 0s 14ms/step - loss: 0.6755 - accuracy: 0.7500\n",
      "Epoch 66/100\n",
      "1/1 [==============================] - 0s 12ms/step - loss: 0.6746 - accuracy: 0.7500\n",
      "Epoch 67/100\n",
      "1/1 [==============================] - 0s 13ms/step - loss: 0.6737 - accuracy: 0.7500\n",
      "Epoch 68/100\n",
      "1/1 [==============================] - 0s 13ms/step - loss: 0.6728 - accuracy: 0.7500\n",
      "Epoch 69/100\n",
      "1/1 [==============================] - 0s 11ms/step - loss: 0.6719 - accuracy: 0.7500\n",
      "Epoch 70/100\n",
      "1/1 [==============================] - 0s 12ms/step - loss: 0.6710 - accuracy: 0.7500\n",
      "Epoch 71/100\n",
      "1/1 [==============================] - 0s 14ms/step - loss: 0.6701 - accuracy: 0.7500\n",
      "Epoch 72/100\n",
      "1/1 [==============================] - 0s 11ms/step - loss: 0.6692 - accuracy: 0.7500\n",
      "Epoch 73/100\n",
      "1/1 [==============================] - 0s 11ms/step - loss: 0.6683 - accuracy: 0.7500\n",
      "Epoch 74/100\n",
      "1/1 [==============================] - 0s 14ms/step - loss: 0.6674 - accuracy: 0.7500\n",
      "Epoch 75/100\n",
      "1/1 [==============================] - 0s 12ms/step - loss: 0.6665 - accuracy: 0.7500\n",
      "Epoch 76/100\n",
      "1/1 [==============================] - 0s 13ms/step - loss: 0.6656 - accuracy: 0.7500\n",
      "Epoch 77/100\n",
      "1/1 [==============================] - 0s 35ms/step - loss: 0.6647 - accuracy: 0.7500\n",
      "Epoch 78/100\n",
      "1/1 [==============================] - 0s 13ms/step - loss: 0.6638 - accuracy: 0.7500\n",
      "Epoch 79/100\n",
      "1/1 [==============================] - 0s 15ms/step - loss: 0.6629 - accuracy: 0.7500\n",
      "Epoch 80/100\n",
      "1/1 [==============================] - 0s 12ms/step - loss: 0.6620 - accuracy: 0.7500\n",
      "Epoch 81/100\n",
      "1/1 [==============================] - 0s 17ms/step - loss: 0.6612 - accuracy: 0.7500\n",
      "Epoch 82/100\n",
      "1/1 [==============================] - 0s 15ms/step - loss: 0.6603 - accuracy: 0.7500\n",
      "Epoch 83/100\n",
      "1/1 [==============================] - 0s 11ms/step - loss: 0.6594 - accuracy: 0.7500\n",
      "Epoch 84/100\n",
      "1/1 [==============================] - 0s 12ms/step - loss: 0.6585 - accuracy: 0.7500\n",
      "Epoch 85/100\n",
      "1/1 [==============================] - 0s 12ms/step - loss: 0.6577 - accuracy: 0.7500\n",
      "Epoch 86/100\n",
      "1/1 [==============================] - 0s 18ms/step - loss: 0.6568 - accuracy: 0.7500\n",
      "Epoch 87/100\n",
      "1/1 [==============================] - 0s 14ms/step - loss: 0.6559 - accuracy: 0.7500\n",
      "Epoch 88/100\n",
      "1/1 [==============================] - 0s 15ms/step - loss: 0.6551 - accuracy: 0.7500\n",
      "Epoch 89/100\n",
      "1/1 [==============================] - 0s 15ms/step - loss: 0.6542 - accuracy: 0.7500\n",
      "Epoch 90/100\n",
      "1/1 [==============================] - 0s 14ms/step - loss: 0.6533 - accuracy: 0.7500\n",
      "Epoch 91/100\n",
      "1/1 [==============================] - 0s 13ms/step - loss: 0.6525 - accuracy: 0.7500\n",
      "Epoch 92/100\n",
      "1/1 [==============================] - 0s 12ms/step - loss: 0.6516 - accuracy: 0.7500\n",
      "Epoch 93/100\n",
      "1/1 [==============================] - 0s 10ms/step - loss: 0.6508 - accuracy: 0.7500\n",
      "Epoch 94/100\n",
      "1/1 [==============================] - 0s 12ms/step - loss: 0.6499 - accuracy: 0.7500\n",
      "Epoch 95/100\n",
      "1/1 [==============================] - 0s 10ms/step - loss: 0.6491 - accuracy: 0.7500\n",
      "Epoch 96/100\n",
      "1/1 [==============================] - 0s 12ms/step - loss: 0.6482 - accuracy: 0.7500\n",
      "Epoch 97/100\n",
      "1/1 [==============================] - 0s 14ms/step - loss: 0.6474 - accuracy: 0.7500\n",
      "Epoch 98/100\n",
      "1/1 [==============================] - 0s 12ms/step - loss: 0.6465 - accuracy: 0.7500\n",
      "Epoch 99/100\n",
      "1/1 [==============================] - 0s 13ms/step - loss: 0.6457 - accuracy: 0.7500\n",
      "Epoch 100/100\n",
      "1/1 [==============================] - 0s 10ms/step - loss: 0.6449 - accuracy: 0.7500\n",
      "1/1 [==============================] - 0s 130ms/step\n",
      "[[0.6522676]\n",
      " [0.6727383]\n",
      " [0.5557448]\n",
      " [0.5851328]]\n"
     ]
    }
   ],
   "source": [
    "import tensorflow as tf\n",
    "import numpy as np\n",
    "\n",
    "# Daten definieren\n",
    "data = np.array([[1, 0, 0],\n",
    "                 [1, 1, 1],\n",
    "                 [0, 0, 1],\n",
    "                 [0, 1, 1]])\n",
    "\n",
    "# Aufteilen der Daten in Features (X) und Labels (y)\n",
    "X = data[:, :-1]  # Eingangsdaten: Erste beiden Spalten\n",
    "y = data[:, -1]   # Ausgangsdaten: Letzte Spalte\n",
    "\n",
    "# Definition des neuronalen Netzwerks\n",
    "model = tf.keras.Sequential([\n",
    "    tf.keras.layers.Dense(3, activation='tanh', input_dim=2),  # Hidden-Layer mit 3 Neuronen\n",
    "    tf.keras.layers.Dense(1, activation='sigmoid')             # Ausgangsneuron\n",
    "])\n",
    "\n",
    "# Kompilieren und trainieren des Modells\n",
    "model.compile(optimizer='adam', loss='binary_crossentropy', metrics=['accuracy'])\n",
    "model.fit(X, y, epochs=100)\n",
    "\n",
    "# Überprüfen der Vorhersagen\n",
    "predictions = model.predict(X)\n",
    "print(predictions)\n"
   ]
  },
  {
   "cell_type": "code",
   "execution_count": 18,
   "metadata": {},
   "outputs": [
    {
     "data": {
      "image/png": "[encoded data removed]",
      "text/plain": [
       "<IPython.core.display.Image object>"
      ]
     },
     "execution_count": 18,
     "metadata": {},
     "output_type": "execute_result"
    }
   ],
   "source": [
    "from tensorflow.keras.utils import plot_model\n",
    "\n",
    "\n",
    "# Speichern des Modells als Bild (PNG-Datei)\n",
    "plot_model(model, to_file='neural_network.png', show_shapes=True)\n"
   ]
  },
  {
   "cell_type": "code",
   "execution_count": 22,
   "metadata": {},
   "outputs": [
    {
     "name": "stdout",
     "output_type": "stream",
     "text": [
      "1/1 [==============================] - 0s 96ms/step\n",
      "[[0.46524256]]\n"
     ]
    }
   ],
   "source": [
    "# Annahme: 'model' ist Ihr trainiertes Modell\n",
    "\n",
    "# Beispiel-Eingabe für die Vorhersage\n",
    "input_data = [[1, 0]]  # Hier müssten Sie Ihre eigenen Eingabewerte angeben\n",
    "\n",
    "# Vorhersage für die Klasse \"Lampe\" (Binärklassifikation)\n",
    "prediction = model.predict(input_data)\n",
    "\n",
    "\n",
    "print(prediction)\n"
   ]
  },
  {
   "cell_type": "code",
   "execution_count": 35,
   "metadata": {},
   "outputs": [
    {
     "name": "stderr",
     "output_type": "stream",
     "text": [
      "WARNING:absl:Found untraced functions such as _update_step_xla while saving (showing 1 of 1). These functions will not be directly callable after loading.\n"
     ]
    },
    {
     "name": "stdout",
     "output_type": "stream",
     "text": [
      "INFO:tensorflow:Assets written to: model\\assets\n"
     ]
    },
    {
     "name": "stderr",
     "output_type": "stream",
     "text": [
      "INFO:tensorflow:Assets written to: model\\assets\n"
     ]
    }
   ],
   "source": [
    "import tensorflow as tf\n",
    "\n",
    "\n",
    "tf.keras.models.save_model(model, 'model')\n"
   ]
  },
  {
   "cell_type": "code",
   "execution_count": 3,
   "metadata": {},
   "outputs": [
    {
     "name": "stdout",
     "output_type": "stream",
     "text": [
      "Gewichtungen: [array([[-0.19970484, -0.9603404 ,  0.4379576 ],\n",
      "       [-0.23422407,  0.9768374 ,  0.46914008]], dtype=float32), array([-0.09349344, -0.09283192,  0.10699251], dtype=float32)]\n",
      "Gewichtungen: [array([[-1.000432  ],\n",
      "       [-0.21481742],\n",
      "       [ 0.16622184]], dtype=float32), array([0.0930462], dtype=float32)]\n"
     ]
    }
   ],
   "source": [
    "\n",
    "for layer in model.layers:\n",
    "    weights = layer.get_weights()\n",
    "    print('Gewichtungen:', weights)\n"
   ]
  },
  {
   "cell_type": "code",
   "execution_count": 23,
   "metadata": {},
   "outputs": [
    {
     "data": {
      "image/png": "[encoded data removed]",
      "text/plain": [
       "<Figure size 1000x600 with 1 Axes>"
      ]
     },
     "metadata": {},
     "output_type": "display_data"
    }
   ],
   "source": [
    "import numpy as np\n",
    "import matplotlib.pyplot as plt\n",
    "\n",
    "# Daten für den x-Achsenbereich\n",
    "x = np.linspace(-10, 10, 100)\n",
    "\n",
    "# Berechnung der Funktionen\n",
    "tanh_y = np.tanh(x)\n",
    "sigmoid_y = 1 / (1 + np.exp(-x))\n",
    "\n",
    "# Erstellen des Plots\n",
    "plt.figure(figsize=(10, 6))\n",
    "plt.plot(x, tanh_y, label='tanh')\n",
    "plt.plot(x, sigmoid_y, label='Sigmoid')\n",
    "plt.axhline(0, color='black', linewidth=0.5)\n",
    "plt.axvline(0, color='black', linewidth=0.5)\n",
    "plt.xlabel('x')\n",
    "plt.ylabel('y')\n",
    "plt.title('Grafische Darstellung der tanh und Sigmoid Funktion')\n",
    "plt.legend()\n",
    "plt.grid(True)\n",
    "\n",
    "# Anzeigen des Plots\n",
    "plt.show()\n"
   ]
  }
 ],
 "metadata": {
  "kernelspec": {
   "display_name": "openvino_env",
   "language": "python",
   "name": "openvino_env"
  },
  "language_info": {
   "codemirror_mode": {
    "name": "ipython",
    "version": 3
   },
   "file_extension": ".py",
   "mimetype": "text/x-python",
   "name": "python",
   "nbconvert_exporter": "python",
   "pygments_lexer": "ipython3",
   "version": "3.10.10"
  },
  "orig_nbformat": 4
 },
 "nbformat": 4,
 "nbformat_minor": 2
}
