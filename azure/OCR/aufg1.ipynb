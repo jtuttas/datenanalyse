{
 "cells": [
  {
   "cell_type": "markdown",
   "metadata": {},
   "source": [
    "# Credentials für den Bilderkennungsdienst festlegen\n",
    "\n",
    "Basierend auf [diesen](https://learn.microsoft.com/de-de/azure/cognitive-services/computer-vision/quickstarts-sdk/client-library?tabs=visual-studio&pivots=programming-language-rest-api) Artikel !"
   ]
  },
  {
   "cell_type": "code",
   "execution_count": 54,
   "metadata": {},
   "outputs": [
    {
     "data": {
      "text/plain": [
       "'tubilderkennung'"
      ]
     },
     "execution_count": 54,
     "metadata": {},
     "output_type": "execute_result"
    }
   ],
   "source": [
    "api_key = \"geheim\"\n",
    "api_endpunkt = \"tubilderkennung\"\n",
    "image_name= \"cars.jpg\""
   ]
  },
  {
   "cell_type": "markdown",
   "metadata": {},
   "source": [
    "# 1. API Aufruf\n",
    "\n",
    "Mit dem ersten API Aufruf wird das Bild hochgeladen"
   ]
  },
  {
   "cell_type": "code",
   "execution_count": 56,
   "metadata": {},
   "outputs": [
    {
     "name": "stdout",
     "output_type": "stream",
     "text": [
      "https://tubilderkennung.cognitiveservices.azure.com/vision/v3.2/read/analyzeResults/36257d45-d3fb-46a6-8d8b-6aded218cab2\n"
     ]
    }
   ],
   "source": [
    "import requests\n",
    "\n",
    "files = [('file', (image_name, open(image_name, 'rb'), 'image/jpeg'))]\n",
    "headers = {\n",
    "    'Ocp-Apim-Subscription-Key': api_key\n",
    "}\n",
    "r2 = requests.post(\"https://\"+api_endpunkt+\".cognitiveservices.azure.com/vision/v3.2/read/analyze\", files=files, headers=headers)\n",
    "ol=r2.headers[\"Operation-Location\"]\n",
    "print(ol)"
   ]
  }
 ],
 "metadata": {
  "kernelspec": {
   "display_name": "Python 3.10.6 64-bit (microsoft store)",
   "language": "python",
   "name": "python3"
  },
  "language_info": {
   "codemirror_mode": {
    "name": "ipython",
    "version": 3
   },
   "file_extension": ".py",
   "mimetype": "text/x-python",
   "name": "python",
   "nbconvert_exporter": "python",
   "pygments_lexer": "ipython3",
   "version": "3.10.6"
  },
  "orig_nbformat": 4,
  "vscode": {
   "interpreter": {
    "hash": "6a9c2b09e717d48387e227ff4e1bafcf8277e1eec0f7861bf0ff38ff503d9bb8"
   }
  }
 },
 "nbformat": 4,
 "nbformat_minor": 2
}
