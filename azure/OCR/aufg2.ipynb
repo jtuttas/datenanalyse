{
 "cells": [
  {
   "cell_type": "markdown",
   "metadata": {},
   "source": [
    "# Credentials für den Bilderkennungsdienst festlegen\n",
    "\n",
    "Basierend auf [diesen](https://learn.microsoft.com/de-de/azure/cognitive-services/computer-vision/quickstarts-sdk/client-library?tabs=visual-studio&pivots=programming-language-rest-api) Artikel !"
   ]
  },
  {
   "cell_type": "code",
   "execution_count": 54,
   "metadata": {},
   "outputs": [
    {
     "data": {
      "text/plain": [
       "'tubilderkennung'"
      ]
     },
     "execution_count": 54,
     "metadata": {},
     "output_type": "execute_result"
    }
   ],
   "source": [
    "api_key = \"geheim\"\n",
    "api_endpunkt = \"tubilderkennung\"\n",
    "image_name = \"cars.jpg\"\n"
   ]
  },
  {
   "cell_type": "markdown",
   "metadata": {},
   "source": [
    "# 1. API Aufruf\n",
    "\n",
    "Mit dem ersten API Aufruf wird das Bild hochgeladen"
   ]
  },
  {
   "cell_type": "code",
   "execution_count": 56,
   "metadata": {},
   "outputs": [
    {
     "name": "stdout",
     "output_type": "stream",
     "text": [
      "https://tubilderkennung.cognitiveservices.azure.com/vision/v3.2/read/analyzeResults/36257d45-d3fb-46a6-8d8b-6aded218cab2\n"
     ]
    }
   ],
   "source": [
    "import requests\n",
    "\n",
    "files = [('file', (image_name, open(image_name, 'rb'), 'image/jpeg'))]\n",
    "headers = {\n",
    "    'Ocp-Apim-Subscription-Key': api_key\n",
    "}\n",
    "r2 = requests.post(\"https://\"+api_endpunkt+\".cognitiveservices.azure.com/vision/v3.2/read/analyze\", files=files, headers=headers)\n",
    "ol=r2.headers[\"Operation-Location\"]\n",
    "print(ol)"
   ]
  },
  {
   "cell_type": "markdown",
   "metadata": {},
   "source": [
    "# 2. Api Aufruf \n",
    "\n",
    "Mit dem 2. Request werden die Bilddaten abgerufen"
   ]
  },
  {
   "cell_type": "code",
   "execution_count": 57,
   "metadata": {},
   "outputs": [
    {
     "name": "stdout",
     "output_type": "stream",
     "text": [
      "{\n",
      "    \"status\": \"succeeded\",\n",
      "    \"createdDateTime\": \"2022-10-15T08:44:11Z\",\n",
      "    \"lastUpdatedDateTime\": \"2022-10-15T08:44:12Z\",\n",
      "    \"analyzeResult\": {\n",
      "        \"version\": \"3.2.0\",\n",
      "        \"modelVersion\": \"2022-04-30\",\n",
      "        \"readResults\": [\n",
      "            {\n",
      "                \"page\": 1,\n",
      "                \"angle\": -0.8303,\n",
      "                \"width\": 1478,\n",
      "                \"height\": 1005,\n",
      "                \"unit\": \"pixel\",\n",
      "                \"lines\": [\n",
      "                    {\n",
      "                        \"boundingBox\": [\n",
      "                            714,\n",
      "                            532,\n",
      "                            852,\n",
      "                            531,\n",
      "                            852,\n",
      "                            558,\n",
      "                            714,\n",
      "                            561\n",
      "                        ],\n",
      "                        \"text\": \"H.AP 515\",\n",
      "                        \"appearance\": {\n",
      "                            \"style\": {\n",
      "                                \"name\": \"other\",\n",
      "                                \"confidence\": 0.972\n",
      "                            }\n",
      "                        },\n",
      "                        \"words\": [\n",
      "                            {\n",
      "                                \"boundingBox\": [\n",
      "                                    715,\n",
      "                                    534,\n",
      "                                    788,\n",
      "                                    532,\n",
      "                                    788,\n",
      "                                    560,\n",
      "                                    715,\n",
      "                                    562\n",
      "                                ],\n",
      "                                \"text\": \"H.AP\",\n",
      "                                \"confidence\": 0.313\n",
      "                            },\n",
      "                            {\n",
      "                                \"boundingBox\": [\n",
      "                                    794,\n",
      "                                    532,\n",
      "                                    844,\n",
      "                                    532,\n",
      "                                    845,\n",
      "                                    559,\n",
      "                                    794,\n",
      "                                    560\n",
      "                                ],\n",
      "                                \"text\": \"515\",\n",
      "                                \"confidence\": 0.596\n",
      "                            }\n",
      "                        ]\n",
      "                    }\n",
      "                ]\n",
      "            }\n",
      "        ]\n",
      "    }\n",
      "}\n"
     ]
    }
   ],
   "source": [
    "import json\n",
    "from urllib import response\n",
    "import time\n",
    "\n",
    "running=True\n",
    "\n",
    "while running:\n",
    "    time.sleep(1)\n",
    "    r3 = requests.get(ol,headers=headers)\n",
    "    mydata = json.loads(r3.text)\n",
    "\n",
    "    if mydata[\"status\"]==\"succeeded\":\n",
    "        running=False\n",
    "\n",
    "\n",
    "print(json.dumps(mydata, indent=4))\n"
   ]
  },
  {
   "cell_type": "code",
   "execution_count": 58,
   "metadata": {},
   "outputs": [
    {
     "name": "stdout",
     "output_type": "stream",
     "text": [
      "[\n",
      "    {\n",
      "        \"boundingBox\": [\n",
      "            714,\n",
      "            532,\n",
      "            852,\n",
      "            531,\n",
      "            852,\n",
      "            558,\n",
      "            714,\n",
      "            561\n",
      "        ],\n",
      "        \"text\": \"H.AP 515\",\n",
      "        \"appearance\": {\n",
      "            \"style\": {\n",
      "                \"name\": \"other\",\n",
      "                \"confidence\": 0.972\n",
      "            }\n",
      "        },\n",
      "        \"words\": [\n",
      "            {\n",
      "                \"boundingBox\": [\n",
      "                    715,\n",
      "                    534,\n",
      "                    788,\n",
      "                    532,\n",
      "                    788,\n",
      "                    560,\n",
      "                    715,\n",
      "                    562\n",
      "                ],\n",
      "                \"text\": \"H.AP\",\n",
      "                \"confidence\": 0.313\n",
      "            },\n",
      "            {\n",
      "                \"boundingBox\": [\n",
      "                    794,\n",
      "                    532,\n",
      "                    844,\n",
      "                    532,\n",
      "                    845,\n",
      "                    559,\n",
      "                    794,\n",
      "                    560\n",
      "                ],\n",
      "                \"text\": \"515\",\n",
      "                \"confidence\": 0.596\n",
      "            }\n",
      "        ]\n",
      "    }\n",
      "]\n"
     ]
    }
   ],
   "source": [
    "angle=mydata[\"analyzeResult\"][\"readResults\"][0][\"angle\"]\n",
    "lines = mydata[\"analyzeResult\"][\"readResults\"][0][\"lines\"]#\n",
    "print(json.dumps(lines, indent=4))\n"
   ]
  }
 ],
 "metadata": {
  "kernelspec": {
   "display_name": "Python 3.10.6 64-bit (microsoft store)",
   "language": "python",
   "name": "python3"
  },
  "language_info": {
   "codemirror_mode": {
    "name": "ipython",
    "version": 3
   },
   "file_extension": ".py",
   "mimetype": "text/x-python",
   "name": "python",
   "nbconvert_exporter": "python",
   "pygments_lexer": "ipython3",
   "version": "3.10.6"
  },
  "orig_nbformat": 4,
  "vscode": {
   "interpreter": {
    "hash": "6a9c2b09e717d48387e227ff4e1bafcf8277e1eec0f7861bf0ff38ff503d9bb8"
   }
  }
 },
 "nbformat": 4,
 "nbformat_minor": 2
}
