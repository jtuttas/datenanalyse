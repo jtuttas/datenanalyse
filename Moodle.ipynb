{
 "cells": [
  {
   "cell_type": "markdown",
   "metadata": {},
   "source": [
    "# Einlesen der CSV Datei"
   ]
  },
  {
   "cell_type": "code",
   "execution_count": 1,
   "metadata": {},
   "outputs": [
    {
     "data": {
      "text/html": [
       "<div>\n",
       "<style scoped>\n",
       "    .dataframe tbody tr th:only-of-type {\n",
       "        vertical-align: middle;\n",
       "    }\n",
       "\n",
       "    .dataframe tbody tr th {\n",
       "        vertical-align: top;\n",
       "    }\n",
       "\n",
       "    .dataframe thead th {\n",
       "        text-align: right;\n",
       "    }\n",
       "</style>\n",
       "<table border=\"1\" class=\"dataframe\">\n",
       "  <thead>\n",
       "    <tr style=\"text-align: right;\">\n",
       "      <th></th>\n",
       "      <th>ID-Nummer</th>\n",
       "      <th>Abteilung</th>\n",
       "      <th>Klassenarbeit</th>\n",
       "      <th>K1</th>\n",
       "      <th>K2</th>\n",
       "      <th>K3</th>\n",
       "      <th>K4</th>\n",
       "      <th>K5</th>\n",
       "      <th>K6</th>\n",
       "      <th>K7</th>\n",
       "    </tr>\n",
       "  </thead>\n",
       "  <tbody>\n",
       "    <tr>\n",
       "      <th>0</th>\n",
       "      <td>1</td>\n",
       "      <td>J</td>\n",
       "      <td>100.00 %</td>\n",
       "      <td>90.00 %</td>\n",
       "      <td>100.00 %</td>\n",
       "      <td>92.86 %</td>\n",
       "      <td>100.00 %</td>\n",
       "      <td>100.00 %</td>\n",
       "      <td>100.00 %</td>\n",
       "      <td>100.00 %</td>\n",
       "    </tr>\n",
       "    <tr>\n",
       "      <th>1</th>\n",
       "      <td>2</td>\n",
       "      <td>J</td>\n",
       "      <td>80.62 %</td>\n",
       "      <td>70.00 %</td>\n",
       "      <td>100.00 %</td>\n",
       "      <td>64.29 %</td>\n",
       "      <td>72.22 %</td>\n",
       "      <td>77.27 %</td>\n",
       "      <td>83.33 %</td>\n",
       "      <td>93.58 %</td>\n",
       "    </tr>\n",
       "    <tr>\n",
       "      <th>2</th>\n",
       "      <td>3</td>\n",
       "      <td>J</td>\n",
       "      <td>95.07 %</td>\n",
       "      <td>95.00 %</td>\n",
       "      <td>100.00 %</td>\n",
       "      <td>100.00 %</td>\n",
       "      <td>100.00 %</td>\n",
       "      <td>100.00 %</td>\n",
       "      <td>100.00 %</td>\n",
       "      <td>100.00 %</td>\n",
       "    </tr>\n",
       "    <tr>\n",
       "      <th>3</th>\n",
       "      <td>4</td>\n",
       "      <td>J</td>\n",
       "      <td>85.80 %</td>\n",
       "      <td>50.00 %</td>\n",
       "      <td>100.00 %</td>\n",
       "      <td>100.00 %</td>\n",
       "      <td>100.00 %</td>\n",
       "      <td>100.00 %</td>\n",
       "      <td>100.00 %</td>\n",
       "      <td>100.00 %</td>\n",
       "    </tr>\n",
       "    <tr>\n",
       "      <th>4</th>\n",
       "      <td>5</td>\n",
       "      <td>J</td>\n",
       "      <td>94.93 %</td>\n",
       "      <td>90.00 %</td>\n",
       "      <td>100.00 %</td>\n",
       "      <td>100.00 %</td>\n",
       "      <td>88.89 %</td>\n",
       "      <td>95.45 %</td>\n",
       "      <td>100.00 %</td>\n",
       "      <td>91.30 %</td>\n",
       "    </tr>\n",
       "    <tr>\n",
       "      <th>...</th>\n",
       "      <td>...</td>\n",
       "      <td>...</td>\n",
       "      <td>...</td>\n",
       "      <td>...</td>\n",
       "      <td>...</td>\n",
       "      <td>...</td>\n",
       "      <td>...</td>\n",
       "      <td>...</td>\n",
       "      <td>...</td>\n",
       "      <td>...</td>\n",
       "    </tr>\n",
       "    <tr>\n",
       "      <th>119</th>\n",
       "      <td>120</td>\n",
       "      <td>N</td>\n",
       "      <td>89.31 %</td>\n",
       "      <td>75.00 %</td>\n",
       "      <td>100.00 %</td>\n",
       "      <td>100.00 %</td>\n",
       "      <td>94.44 %</td>\n",
       "      <td>100.00 %</td>\n",
       "      <td>100.00 %</td>\n",
       "      <td>100.00 %</td>\n",
       "    </tr>\n",
       "    <tr>\n",
       "      <th>120</th>\n",
       "      <td>121</td>\n",
       "      <td>N</td>\n",
       "      <td>88.62 %</td>\n",
       "      <td>90.00 %</td>\n",
       "      <td>100.00 %</td>\n",
       "      <td>71.43 %</td>\n",
       "      <td>100.00 %</td>\n",
       "      <td>95.45 %</td>\n",
       "      <td>100.00 %</td>\n",
       "      <td>52.38 %</td>\n",
       "    </tr>\n",
       "    <tr>\n",
       "      <th>121</th>\n",
       "      <td>122</td>\n",
       "      <td>N</td>\n",
       "      <td>60.33 %</td>\n",
       "      <td>100.00 %</td>\n",
       "      <td>92.86 %</td>\n",
       "      <td>92.86 %</td>\n",
       "      <td>100.00 %</td>\n",
       "      <td>95.45 %</td>\n",
       "      <td>100.00 %</td>\n",
       "      <td>-</td>\n",
       "    </tr>\n",
       "    <tr>\n",
       "      <th>122</th>\n",
       "      <td>123</td>\n",
       "      <td>N</td>\n",
       "      <td>79.46 %</td>\n",
       "      <td>90.00 %</td>\n",
       "      <td>85.71 %</td>\n",
       "      <td>57.14 %</td>\n",
       "      <td>69.44 %</td>\n",
       "      <td>95.45 %</td>\n",
       "      <td>86.11 %</td>\n",
       "      <td>48.03 %</td>\n",
       "    </tr>\n",
       "    <tr>\n",
       "      <th>123</th>\n",
       "      <td>124</td>\n",
       "      <td>N</td>\n",
       "      <td>68.26 %</td>\n",
       "      <td>45.00 %</td>\n",
       "      <td>89.29 %</td>\n",
       "      <td>67.86 %</td>\n",
       "      <td>80.56 %</td>\n",
       "      <td>63.64 %</td>\n",
       "      <td>-</td>\n",
       "      <td>37.27 %</td>\n",
       "    </tr>\n",
       "  </tbody>\n",
       "</table>\n",
       "<p>124 rows × 10 columns</p>\n",
       "</div>"
      ],
      "text/plain": [
       "     ID-Nummer Abteilung Klassenarbeit        K1        K2        K3  \\\n",
       "0            1         J      100.00 %   90.00 %  100.00 %   92.86 %   \n",
       "1            2         J       80.62 %   70.00 %  100.00 %   64.29 %   \n",
       "2            3         J       95.07 %   95.00 %  100.00 %  100.00 %   \n",
       "3            4         J       85.80 %   50.00 %  100.00 %  100.00 %   \n",
       "4            5         J       94.93 %   90.00 %  100.00 %  100.00 %   \n",
       "..         ...       ...           ...       ...       ...       ...   \n",
       "119        120         N       89.31 %   75.00 %  100.00 %  100.00 %   \n",
       "120        121         N       88.62 %   90.00 %  100.00 %   71.43 %   \n",
       "121        122         N       60.33 %  100.00 %   92.86 %   92.86 %   \n",
       "122        123         N       79.46 %   90.00 %   85.71 %   57.14 %   \n",
       "123        124         N       68.26 %   45.00 %   89.29 %   67.86 %   \n",
       "\n",
       "           K4        K5        K6        K7  \n",
       "0    100.00 %  100.00 %  100.00 %  100.00 %  \n",
       "1     72.22 %   77.27 %   83.33 %   93.58 %  \n",
       "2    100.00 %  100.00 %  100.00 %  100.00 %  \n",
       "3    100.00 %  100.00 %  100.00 %  100.00 %  \n",
       "4     88.89 %   95.45 %  100.00 %   91.30 %  \n",
       "..        ...       ...       ...       ...  \n",
       "119   94.44 %  100.00 %  100.00 %  100.00 %  \n",
       "120  100.00 %   95.45 %  100.00 %   52.38 %  \n",
       "121  100.00 %   95.45 %  100.00 %         -  \n",
       "122   69.44 %   95.45 %   86.11 %   48.03 %  \n",
       "123   80.56 %   63.64 %         -   37.27 %  \n",
       "\n",
       "[124 rows x 10 columns]"
      ]
     },
     "execution_count": 1,
     "metadata": {},
     "output_type": "execute_result"
    }
   ],
   "source": [
    "import pandas as pd\n",
    "\n",
    "df = pd.read_csv('Data/Moodle.csv',delimiter=\";\")\n",
    "df"
   ]
  },
  {
   "cell_type": "markdown",
   "metadata": {},
   "source": [
    "Die Daten sind noch ungünstig formatiert und müssen gewandelt werden:\n",
    "- Prozentwerte müssen in Fließkomma Werte umgewandelt werden\n",
    "- Wenn ein Test nicht geschrieben wurde, so müssen 0.0 eingetragen werden"
   ]
  },
  {
   "cell_type": "code",
   "execution_count": 2,
   "metadata": {},
   "outputs": [
    {
     "data": {
      "text/html": [
       "<div>\n",
       "<style scoped>\n",
       "    .dataframe tbody tr th:only-of-type {\n",
       "        vertical-align: middle;\n",
       "    }\n",
       "\n",
       "    .dataframe tbody tr th {\n",
       "        vertical-align: top;\n",
       "    }\n",
       "\n",
       "    .dataframe thead th {\n",
       "        text-align: right;\n",
       "    }\n",
       "</style>\n",
       "<table border=\"1\" class=\"dataframe\">\n",
       "  <thead>\n",
       "    <tr style=\"text-align: right;\">\n",
       "      <th></th>\n",
       "      <th>ID-Nummer</th>\n",
       "      <th>Abteilung</th>\n",
       "      <th>Klassenarbeit</th>\n",
       "      <th>K1</th>\n",
       "      <th>K2</th>\n",
       "      <th>K3</th>\n",
       "      <th>K4</th>\n",
       "      <th>K5</th>\n",
       "      <th>K6</th>\n",
       "      <th>K7</th>\n",
       "    </tr>\n",
       "  </thead>\n",
       "  <tbody>\n",
       "    <tr>\n",
       "      <th>0</th>\n",
       "      <td>1</td>\n",
       "      <td>J</td>\n",
       "      <td>100.00</td>\n",
       "      <td>90.0</td>\n",
       "      <td>100.00</td>\n",
       "      <td>92.86</td>\n",
       "      <td>100.00</td>\n",
       "      <td>100.00</td>\n",
       "      <td>100.00</td>\n",
       "      <td>100.00</td>\n",
       "    </tr>\n",
       "    <tr>\n",
       "      <th>1</th>\n",
       "      <td>2</td>\n",
       "      <td>J</td>\n",
       "      <td>80.62</td>\n",
       "      <td>70.0</td>\n",
       "      <td>100.00</td>\n",
       "      <td>64.29</td>\n",
       "      <td>72.22</td>\n",
       "      <td>77.27</td>\n",
       "      <td>83.33</td>\n",
       "      <td>93.58</td>\n",
       "    </tr>\n",
       "    <tr>\n",
       "      <th>2</th>\n",
       "      <td>3</td>\n",
       "      <td>J</td>\n",
       "      <td>95.07</td>\n",
       "      <td>95.0</td>\n",
       "      <td>100.00</td>\n",
       "      <td>100.00</td>\n",
       "      <td>100.00</td>\n",
       "      <td>100.00</td>\n",
       "      <td>100.00</td>\n",
       "      <td>100.00</td>\n",
       "    </tr>\n",
       "    <tr>\n",
       "      <th>3</th>\n",
       "      <td>4</td>\n",
       "      <td>J</td>\n",
       "      <td>85.80</td>\n",
       "      <td>50.0</td>\n",
       "      <td>100.00</td>\n",
       "      <td>100.00</td>\n",
       "      <td>100.00</td>\n",
       "      <td>100.00</td>\n",
       "      <td>100.00</td>\n",
       "      <td>100.00</td>\n",
       "    </tr>\n",
       "    <tr>\n",
       "      <th>4</th>\n",
       "      <td>5</td>\n",
       "      <td>J</td>\n",
       "      <td>94.93</td>\n",
       "      <td>90.0</td>\n",
       "      <td>100.00</td>\n",
       "      <td>100.00</td>\n",
       "      <td>88.89</td>\n",
       "      <td>95.45</td>\n",
       "      <td>100.00</td>\n",
       "      <td>91.30</td>\n",
       "    </tr>\n",
       "    <tr>\n",
       "      <th>...</th>\n",
       "      <td>...</td>\n",
       "      <td>...</td>\n",
       "      <td>...</td>\n",
       "      <td>...</td>\n",
       "      <td>...</td>\n",
       "      <td>...</td>\n",
       "      <td>...</td>\n",
       "      <td>...</td>\n",
       "      <td>...</td>\n",
       "      <td>...</td>\n",
       "    </tr>\n",
       "    <tr>\n",
       "      <th>119</th>\n",
       "      <td>120</td>\n",
       "      <td>N</td>\n",
       "      <td>89.31</td>\n",
       "      <td>75.0</td>\n",
       "      <td>100.00</td>\n",
       "      <td>100.00</td>\n",
       "      <td>94.44</td>\n",
       "      <td>100.00</td>\n",
       "      <td>100.00</td>\n",
       "      <td>100.00</td>\n",
       "    </tr>\n",
       "    <tr>\n",
       "      <th>120</th>\n",
       "      <td>121</td>\n",
       "      <td>N</td>\n",
       "      <td>88.62</td>\n",
       "      <td>90.0</td>\n",
       "      <td>100.00</td>\n",
       "      <td>71.43</td>\n",
       "      <td>100.00</td>\n",
       "      <td>95.45</td>\n",
       "      <td>100.00</td>\n",
       "      <td>52.38</td>\n",
       "    </tr>\n",
       "    <tr>\n",
       "      <th>121</th>\n",
       "      <td>122</td>\n",
       "      <td>N</td>\n",
       "      <td>60.33</td>\n",
       "      <td>100.0</td>\n",
       "      <td>92.86</td>\n",
       "      <td>92.86</td>\n",
       "      <td>100.00</td>\n",
       "      <td>95.45</td>\n",
       "      <td>100.00</td>\n",
       "      <td>0.00</td>\n",
       "    </tr>\n",
       "    <tr>\n",
       "      <th>122</th>\n",
       "      <td>123</td>\n",
       "      <td>N</td>\n",
       "      <td>79.46</td>\n",
       "      <td>90.0</td>\n",
       "      <td>85.71</td>\n",
       "      <td>57.14</td>\n",
       "      <td>69.44</td>\n",
       "      <td>95.45</td>\n",
       "      <td>86.11</td>\n",
       "      <td>48.03</td>\n",
       "    </tr>\n",
       "    <tr>\n",
       "      <th>123</th>\n",
       "      <td>124</td>\n",
       "      <td>N</td>\n",
       "      <td>68.26</td>\n",
       "      <td>45.0</td>\n",
       "      <td>89.29</td>\n",
       "      <td>67.86</td>\n",
       "      <td>80.56</td>\n",
       "      <td>63.64</td>\n",
       "      <td>0.00</td>\n",
       "      <td>37.27</td>\n",
       "    </tr>\n",
       "  </tbody>\n",
       "</table>\n",
       "<p>124 rows × 10 columns</p>\n",
       "</div>"
      ],
      "text/plain": [
       "     ID-Nummer Abteilung  Klassenarbeit     K1      K2      K3      K4  \\\n",
       "0            1         J         100.00   90.0  100.00   92.86  100.00   \n",
       "1            2         J          80.62   70.0  100.00   64.29   72.22   \n",
       "2            3         J          95.07   95.0  100.00  100.00  100.00   \n",
       "3            4         J          85.80   50.0  100.00  100.00  100.00   \n",
       "4            5         J          94.93   90.0  100.00  100.00   88.89   \n",
       "..         ...       ...            ...    ...     ...     ...     ...   \n",
       "119        120         N          89.31   75.0  100.00  100.00   94.44   \n",
       "120        121         N          88.62   90.0  100.00   71.43  100.00   \n",
       "121        122         N          60.33  100.0   92.86   92.86  100.00   \n",
       "122        123         N          79.46   90.0   85.71   57.14   69.44   \n",
       "123        124         N          68.26   45.0   89.29   67.86   80.56   \n",
       "\n",
       "         K5      K6      K7  \n",
       "0    100.00  100.00  100.00  \n",
       "1     77.27   83.33   93.58  \n",
       "2    100.00  100.00  100.00  \n",
       "3    100.00  100.00  100.00  \n",
       "4     95.45  100.00   91.30  \n",
       "..      ...     ...     ...  \n",
       "119  100.00  100.00  100.00  \n",
       "120   95.45  100.00   52.38  \n",
       "121   95.45  100.00    0.00  \n",
       "122   95.45   86.11   48.03  \n",
       "123   63.64    0.00   37.27  \n",
       "\n",
       "[124 rows x 10 columns]"
      ]
     },
     "execution_count": 2,
     "metadata": {},
     "output_type": "execute_result"
    }
   ],
   "source": [
    "for column in df.columns[2:]:\n",
    "    df[column] = df[column].str.replace('%','')\n",
    "    df[column] = df[column].str.replace('-','0.0')\n",
    "    df[column] = df[column].astype(float)\n",
    "    \n",
    "df"
   ]
  },
  {
   "cell_type": "code",
   "execution_count": 3,
   "metadata": {},
   "outputs": [
    {
     "name": "stdout",
     "output_type": "stream",
     "text": [
      "ID-Nummer          int64\n",
      "Abteilung         object\n",
      "Klassenarbeit    float64\n",
      "K1               float64\n",
      "K2               float64\n",
      "K3               float64\n",
      "K4               float64\n",
      "K5               float64\n",
      "K6               float64\n",
      "K7               float64\n",
      "dtype: object\n"
     ]
    }
   ],
   "source": [
    "\n",
    "print (df.dtypes)"
   ]
  },
  {
   "cell_type": "markdown",
   "metadata": {},
   "source": [
    "Nun kann man schon mal den Durchschnitt in der Klassenarbeit anzeige"
   ]
  },
  {
   "cell_type": "code",
   "execution_count": 238,
   "metadata": {},
   "outputs": [
    {
     "data": {
      "text/plain": [
       "78.63887096774194"
      ]
     },
     "execution_count": 238,
     "metadata": {},
     "output_type": "execute_result"
    }
   ],
   "source": [
    "df[\"Klassenarbeit\"].mean()"
   ]
  },
  {
   "cell_type": "markdown",
   "metadata": {},
   "source": [
    "Will man nur eine Klasse haben, so muss ein Teilmenge gebildet werden!"
   ]
  },
  {
   "cell_type": "code",
   "execution_count": 19,
   "metadata": {},
   "outputs": [
    {
     "data": {
      "text/plain": [
       "80.845"
      ]
     },
     "execution_count": 19,
     "metadata": {},
     "output_type": "execute_result"
    }
   ],
   "source": [
    "dj=df.loc[df['Abteilung'] == \"J\"]\n",
    "dj[\"Klassenarbeit\"].mean()\n"
   ]
  },
  {
   "cell_type": "markdown",
   "metadata": {},
   "source": [
    "### Darstellen der Notenverteilung der Klassenarbeit nach IHK Schema"
   ]
  },
  {
   "cell_type": "code",
   "execution_count": 72,
   "metadata": {},
   "outputs": [
    {
     "data": {
      "text/plain": [
       "0         sehr gut\n",
       "1      befriedigen\n",
       "2         sehr gut\n",
       "3              gut\n",
       "4         sehr gut\n",
       "          ...     \n",
       "119            gut\n",
       "120            gut\n",
       "121    ausreichend\n",
       "122    befriedigen\n",
       "123    befriedigen\n",
       "Name: Klassenarbeit, Length: 124, dtype: category\n",
       "Categories (6, object): ['ungenügen' < 'mangelhaft' < 'ausreichend' < 'befriedigen' < 'gut' < 'sehr gut']"
      ]
     },
     "execution_count": 72,
     "metadata": {},
     "output_type": "execute_result"
    }
   ],
   "source": [
    "import matplotlib.pyplot as plt;\n",
    "\n",
    "labels = ['ungenügen', 'mangelhaft', 'ausreichend', 'befriedigen', 'gut', 'sehr gut']\n",
    "ranges = [0,30,50,68,82,92,100]\n",
    "d2 = pd.cut(df['Klassenarbeit'],ranges,labels=labels)\n",
    "d2"
   ]
  },
  {
   "cell_type": "code",
   "execution_count": 75,
   "metadata": {},
   "outputs": [
    {
     "data": {
      "text/html": [
       "<div>\n",
       "<style scoped>\n",
       "    .dataframe tbody tr th:only-of-type {\n",
       "        vertical-align: middle;\n",
       "    }\n",
       "\n",
       "    .dataframe tbody tr th {\n",
       "        vertical-align: top;\n",
       "    }\n",
       "\n",
       "    .dataframe thead th {\n",
       "        text-align: right;\n",
       "    }\n",
       "</style>\n",
       "<table border=\"1\" class=\"dataframe\">\n",
       "  <thead>\n",
       "    <tr style=\"text-align: right;\">\n",
       "      <th></th>\n",
       "      <th>Anzahl</th>\n",
       "    </tr>\n",
       "    <tr>\n",
       "      <th>Klassenarbeit</th>\n",
       "      <th></th>\n",
       "    </tr>\n",
       "  </thead>\n",
       "  <tbody>\n",
       "    <tr>\n",
       "      <th>ungenügen</th>\n",
       "      <td>2</td>\n",
       "    </tr>\n",
       "    <tr>\n",
       "      <th>mangelhaft</th>\n",
       "      <td>5</td>\n",
       "    </tr>\n",
       "    <tr>\n",
       "      <th>ausreichend</th>\n",
       "      <td>10</td>\n",
       "    </tr>\n",
       "    <tr>\n",
       "      <th>befriedigen</th>\n",
       "      <td>19</td>\n",
       "    </tr>\n",
       "    <tr>\n",
       "      <th>gut</th>\n",
       "      <td>42</td>\n",
       "    </tr>\n",
       "    <tr>\n",
       "      <th>sehr gut</th>\n",
       "      <td>39</td>\n",
       "    </tr>\n",
       "  </tbody>\n",
       "</table>\n",
       "</div>"
      ],
      "text/plain": [
       "               Anzahl\n",
       "Klassenarbeit        \n",
       "ungenügen           2\n",
       "mangelhaft          5\n",
       "ausreichend        10\n",
       "befriedigen        19\n",
       "gut                42\n",
       "sehr gut           39"
      ]
     },
     "execution_count": 75,
     "metadata": {},
     "output_type": "execute_result"
    }
   ],
   "source": [
    "df2 = pd.DataFrame(d2)\n",
    "d3=df2.groupby([\"Klassenarbeit\"])[\"Klassenarbeit\"].count()\n",
    "df3=pd.DataFrame(d3)\n",
    "df3.columns=[\"Anzahl\"]\n",
    "df3"
   ]
  },
  {
   "cell_type": "code",
   "execution_count": 71,
   "metadata": {},
   "outputs": [
    {
     "data": {
      "text/plain": [
       "<AxesSubplot:xlabel='Klassenarbeit'>"
      ]
     },
     "execution_count": 71,
     "metadata": {},
     "output_type": "execute_result"
    },
    {
     "data": {
      "image/png": "[encoded data removed]",
      "text/plain": [
       "<Figure size 432x288 with 1 Axes>"
      ]
     },
     "metadata": {
      "needs_background": "light"
     },
     "output_type": "display_data"
    }
   ],
   "source": [
    "df3.plot.bar()"
   ]
  },
  {
   "cell_type": "markdown",
   "metadata": {},
   "source": [
    "Nun kann z.B. die Notenverteilung in der Klasse als Tortendiagramm (Pie Chart) ausgegeben werden!"
   ]
  },
  {
   "cell_type": "code",
   "execution_count": 78,
   "metadata": {},
   "outputs": [
    {
     "data": {
      "text/plain": [
       "<AxesSubplot:ylabel='Anzahl'>"
      ]
     },
     "execution_count": 78,
     "metadata": {},
     "output_type": "execute_result"
    },
    {
     "data": {
      "image/png": "[encoded data removed]",
      "text/plain": [
       "<Figure size 504x504 with 1 Axes>"
      ]
     },
     "metadata": {},
     "output_type": "display_data"
    }
   ],
   "source": [
    "\n",
    "df3.plot.pie(y='Anzahl', figsize=(7, 7), textprops={'color':\"#888888\"})\n",
    "\n"
   ]
  },
  {
   "cell_type": "markdown",
   "metadata": {},
   "source": [
    "Vergleich mit der K Gruppe"
   ]
  },
  {
   "cell_type": "code",
   "execution_count": 79,
   "metadata": {},
   "outputs": [
    {
     "data": {
      "image/png": "[encoded data removed]",
      "text/plain": [
       "<Figure size 504x504 with 1 Axes>"
      ]
     },
     "metadata": {},
     "output_type": "display_data"
    }
   ],
   "source": [
    "grades = pd.DataFrame({'grade': ['sehr gut', 'gut', 'befriedigend', 'ausreichend','mangehalf','ungenügend'],\n",
    "                   'count': [0, 0, 0,0,0,0]})\n",
    "grades.set_index('grade', inplace=True)\n",
    "\n",
    "for row in df.loc[df['Abteilung'] == \"K\"][\"Klassenarbeit\"]:\n",
    "    if row>=91:\n",
    "        grades[\"count\"][0]+=1\n",
    "    elif row>=82:\n",
    "        grades[\"count\"][1]+=1\n",
    "    elif row>=66:\n",
    "        grades[\"count\"][2]+=1\n",
    "    elif row>=50:\n",
    "        grades[\"count\"][3]+=1\n",
    "    elif row>=30:\n",
    "        grades[\"count\"][4]+=1\n",
    "    else:\n",
    "        grades[\"count\"][5]+=1\n",
    " \n",
    "plot = grades.plot.pie(y='count', figsize=(7, 7), textprops={'color':\"#888888\"})"
   ]
  },
  {
   "cell_type": "markdown",
   "metadata": {},
   "source": [
    "Alle 6 Gruppen neben einander!"
   ]
  },
  {
   "cell_type": "code",
   "execution_count": 242,
   "metadata": {},
   "outputs": [
    {
     "data": {
      "text/plain": [
       "(0.0, 1.0, 0.0, 1.0)"
      ]
     },
     "execution_count": 242,
     "metadata": {},
     "output_type": "execute_result"
    },
    {
     "data": {
      "image/png": "[encoded data removed]",
      "text/plain": [
       "<Figure size 1080x360 with 6 Axes>"
      ]
     },
     "metadata": {
      "needs_background": "light"
     },
     "output_type": "display_data"
    }
   ],
   "source": [
    "import matplotlib.pyplot as plt\n",
    "\n",
    "\n",
    "groups = [\"J\",\"K\",\"L\",\"M\",\"N\"]\n",
    "grades = pd.DataFrame({'grade': ['sehr gut', 'gut', 'befriedigend', 'ausreichend','mangehalf','ungenügend'],\n",
    "                   'J': [0, 0, 0,0,0,0],\n",
    "                   'K': [0, 0, 0,0,0,0],\n",
    "                   'L': [0, 0, 0,0,0,0],\n",
    "                   'M': [0, 0, 0,0,0,0],\n",
    "                   'N': [0, 0, 0,0,0,0]})\n",
    "\n",
    "grades.set_index('grade', inplace=True)\n",
    "\n",
    "for g in groups:\n",
    "    for row in df.loc[df['Abteilung'] == g][\"Klassenarbeit\"]:\n",
    "        if row>=91:\n",
    "            grades[g][0]+=1\n",
    "        elif row>=82:\n",
    "            grades[g][1]+=1\n",
    "        elif row>=66:\n",
    "            grades[g][2]+=1\n",
    "        elif row>=50:\n",
    "            grades[g][3]+=1\n",
    "        elif row>=30:\n",
    "            grades[g][4]+=1\n",
    "        else:\n",
    "            grades[g][5]+=1\n",
    "\n",
    "fig, axes = plt.subplots(nrows=2, ncols=3, figsize=(15, 5))\n",
    "\n",
    "\n",
    "grades[\"J\"].plot.pie(subplots=True, figsize=(10, 5),ax=axes[0,0])\n",
    "grades[\"K\"].plot.pie(subplots=True, figsize=(10, 5),ax=axes[0,1])\n",
    "grades[\"L\"].plot.pie(subplots=True, figsize=(10, 5),ax=axes[0,2])\n",
    "grades[\"M\"].plot.pie(subplots=True, figsize=(10, 5),ax=axes[1,0])\n",
    "grades[\"N\"].plot.pie(subplots=True, figsize=(10, 5),ax=axes[1,1])\n",
    "axes[-1, -1].axis('off')"
   ]
  },
  {
   "cell_type": "markdown",
   "metadata": {},
   "source": [
    "Summe der Kapiteltest im Verhältnis zum Ergebnis der Klassenarbeit"
   ]
  },
  {
   "cell_type": "code",
   "execution_count": 263,
   "metadata": {},
   "outputs": [
    {
     "data": {
      "image/png": "[encoded data removed]",
      "text/plain": [
       "<Figure size 432x288 with 1 Axes>"
      ]
     },
     "metadata": {
      "needs_background": "light"
     },
     "output_type": "display_data"
    }
   ],
   "source": [
    "df['Kap.Test'] = df.iloc[:, 3:9].mean(axis=1)\n",
    "df.plot(x='Kap.Test', y='Klassenarbeit', kind='scatter')\n",
    "plt.grid(True)\n",
    "plt.show()"
   ]
  }
 ],
 "metadata": {
  "kernelspec": {
   "display_name": "Python 3.10.5 64-bit (windows store)",
   "language": "python",
   "name": "python3"
  },
  "language_info": {
   "codemirror_mode": {
    "name": "ipython",
    "version": 3
   },
   "file_extension": ".py",
   "mimetype": "text/x-python",
   "name": "python",
   "nbconvert_exporter": "python",
   "pygments_lexer": "ipython3",
   "version": "3.10.8"
  },
  "orig_nbformat": 4,
  "vscode": {
   "interpreter": {
    "hash": "6a9c2b09e717d48387e227ff4e1bafcf8277e1eec0f7861bf0ff38ff503d9bb8"
   }
  }
 },
 "nbformat": 4,
 "nbformat_minor": 2
}
