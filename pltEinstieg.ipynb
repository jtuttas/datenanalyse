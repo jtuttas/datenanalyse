{
 "cells": [
  {
   "cell_type": "code",
   "execution_count": 1,
   "metadata": {},
   "outputs": [
    {
     "data": {
      "image/png": "[encoded data removed]",
      "text/plain": [
       "<Figure size 432x288 with 1 Axes>"
      ]
     },
     "metadata": {
      "needs_background": "light"
     },
     "output_type": "display_data"
    }
   ],
   "source": [
    "import matplotlib.pyplot as plt\n",
    "\n",
    "datax = [4,6,7,9]\n",
    "datay = [2,4,7,3]\n",
    "\n",
    "plt.scatter(datax,datay)\n",
    "\n",
    "plt.show()"
   ]
  },
  {
   "cell_type": "code",
   "execution_count": 2,
   "metadata": {},
   "outputs": [
    {
     "data": {
      "text/html": [
       "<div>\n",
       "<style scoped>\n",
       "    .dataframe tbody tr th:only-of-type {\n",
       "        vertical-align: middle;\n",
       "    }\n",
       "\n",
       "    .dataframe tbody tr th {\n",
       "        vertical-align: top;\n",
       "    }\n",
       "\n",
       "    .dataframe thead th {\n",
       "        text-align: right;\n",
       "    }\n",
       "</style>\n",
       "<table border=\"1\" class=\"dataframe\">\n",
       "  <thead>\n",
       "    <tr style=\"text-align: right;\">\n",
       "      <th></th>\n",
       "      <th>Feuchte</th>\n",
       "      <th>Regenwahrscheinlichkeit</th>\n",
       "      <th>Ergebnis</th>\n",
       "    </tr>\n",
       "  </thead>\n",
       "  <tbody>\n",
       "    <tr>\n",
       "      <th>0</th>\n",
       "      <td>17.94</td>\n",
       "      <td>56.89</td>\n",
       "      <td>Warten</td>\n",
       "    </tr>\n",
       "    <tr>\n",
       "      <th>1</th>\n",
       "      <td>15.01</td>\n",
       "      <td>80.88</td>\n",
       "      <td>Ernten</td>\n",
       "    </tr>\n",
       "    <tr>\n",
       "      <th>2</th>\n",
       "      <td>15.56</td>\n",
       "      <td>75.99</td>\n",
       "      <td>Warten</td>\n",
       "    </tr>\n",
       "    <tr>\n",
       "      <th>3</th>\n",
       "      <td>18.25</td>\n",
       "      <td>36.97</td>\n",
       "      <td>Warten</td>\n",
       "    </tr>\n",
       "    <tr>\n",
       "      <th>4</th>\n",
       "      <td>16.52</td>\n",
       "      <td>90.11</td>\n",
       "      <td>Warten</td>\n",
       "    </tr>\n",
       "    <tr>\n",
       "      <th>...</th>\n",
       "      <td>...</td>\n",
       "      <td>...</td>\n",
       "      <td>...</td>\n",
       "    </tr>\n",
       "    <tr>\n",
       "      <th>86</th>\n",
       "      <td>13.04</td>\n",
       "      <td>89.08</td>\n",
       "      <td>Ernten</td>\n",
       "    </tr>\n",
       "    <tr>\n",
       "      <th>87</th>\n",
       "      <td>15.47</td>\n",
       "      <td>32.17</td>\n",
       "      <td>Warten</td>\n",
       "    </tr>\n",
       "    <tr>\n",
       "      <th>88</th>\n",
       "      <td>11.74</td>\n",
       "      <td>48.10</td>\n",
       "      <td>Ernten</td>\n",
       "    </tr>\n",
       "    <tr>\n",
       "      <th>89</th>\n",
       "      <td>14.98</td>\n",
       "      <td>23.35</td>\n",
       "      <td>Warten</td>\n",
       "    </tr>\n",
       "    <tr>\n",
       "      <th>90</th>\n",
       "      <td>14.74</td>\n",
       "      <td>91.87</td>\n",
       "      <td>Ernten</td>\n",
       "    </tr>\n",
       "  </tbody>\n",
       "</table>\n",
       "<p>91 rows × 3 columns</p>\n",
       "</div>"
      ],
      "text/plain": [
       "    Feuchte  Regenwahrscheinlichkeit Ergebnis\n",
       "0     17.94                    56.89   Warten\n",
       "1     15.01                    80.88   Ernten\n",
       "2     15.56                    75.99   Warten\n",
       "3     18.25                    36.97   Warten\n",
       "4     16.52                    90.11   Warten\n",
       "..      ...                      ...      ...\n",
       "86    13.04                    89.08   Ernten\n",
       "87    15.47                    32.17   Warten\n",
       "88    11.74                    48.10   Ernten\n",
       "89    14.98                    23.35   Warten\n",
       "90    14.74                    91.87   Ernten\n",
       "\n",
       "[91 rows x 3 columns]"
      ]
     },
     "execution_count": 2,
     "metadata": {},
     "output_type": "execute_result"
    }
   ],
   "source": [
    "import pandas as pd\n",
    "\n",
    "# CSV-Datei laden\n",
    "data = pd.read_csv('ErnteBauern.csv')\n",
    "data"
   ]
  }
 ],
 "metadata": {
  "kernelspec": {
   "display_name": "Python 3",
   "language": "python",
   "name": "python3"
  },
  "language_info": {
   "codemirror_mode": {
    "name": "ipython",
    "version": 3
   },
   "file_extension": ".py",
   "mimetype": "text/x-python",
   "name": "python",
   "nbconvert_exporter": "python",
   "pygments_lexer": "ipython3",
   "version": "3.10.10"
  },
  "orig_nbformat": 4
 },
 "nbformat": 4,
 "nbformat_minor": 2
}
