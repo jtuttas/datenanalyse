{
 "cells": [
  {
   "cell_type": "code",
   "execution_count": null,
   "metadata": {},
   "outputs": [],
   "source": []
  },
  {
   "attachments": {},
   "cell_type": "markdown",
   "metadata": {},
   "source": [
    "Unsere Umgebung besteht auf 4 Mülltonnen (Blau - Papier, Gelb - Plastik, guen - Altglas und rot - Biomüll)"
   ]
  },
  {
   "cell_type": "code",
   "execution_count": 6,
   "metadata": {},
   "outputs": [
    {
     "name": "stdout",
     "output_type": "stream",
     "text": [
      "gruen\n"
     ]
    }
   ],
   "source": [
    "class Tonne:\n",
    "    def __init__(self, farbe, items):\n",
    "        self.farbe = farbe\n",
    "        self.items = items\n",
    "\n",
    "    def insert(self,item):\n",
    "        if (item in self.items):\n",
    "            return self.farbe\n",
    "        else:\n",
    "            return None\n",
    "        \n",
    "\n",
    "blau = Tonne('blau',[\"Zeitung\"])\n",
    "gelb = Tonne('gelb',[\"Waschmittel Flasche\"])\n",
    "gruen = Tonne('gruen',[\"Weinflasche\"])\n",
    "rot = Tonne('rot',[\"Kartoffel Schale\"])\n",
    "print(gruen.insert(\"Weinflasche\"))\n"
   ]
  },
  {
   "attachments": {},
   "cell_type": "markdown",
   "metadata": {},
   "source": [
    "Unser Agent nimmt einen einen Zufälligen Zustand ein"
   ]
  },
  {
   "cell_type": "code",
   "execution_count": 10,
   "metadata": {},
   "outputs": [
    {
     "name": "stdout",
     "output_type": "stream",
     "text": [
      "Agent ist im Zustand Waschmittel Flasche\n"
     ]
    }
   ],
   "source": [
    "import random\n",
    "class Agent:\n",
    "\n",
    "    elements  = {\n",
    "        \"Waschmittel Flasche\" : [\"blau\",\"gelb\",\"gruen\",\"rot\"],\n",
    "        \"Zeitung\" : [\"blau\",\"gelb\",\"gruen\",\"rot\"],\n",
    "        \"Weinflasche\" : [\"blau\",\"gelb\",\"gruen\",\"rot\"],\n",
    "        \"Kartoffel Schale\" : [\"blau\",\"gelb\",\"gruen\",\"rot\"]\n",
    "    }\n",
    "\n",
    "    def __init__(self):\n",
    "        self.state=random.choice(list(elements.keys()))\n",
    "        print (\"Agent ist im Zustand \"+self.state)\n",
    "\n",
    "    def reset(self):\n",
    "        self.state=random.choice(self.states)\n",
    "        print (\"Agent ist im Zustand \"+self.state)\n",
    "    \n",
    "agent = Agent()"
   ]
  },
  {
   "cell_type": "code",
   "execution_count": 3,
   "metadata": {},
   "outputs": [
    {
     "name": "stderr",
     "output_type": "stream",
     "text": [
      "c:\\Users\\jtutt\\anaconda3\\lib\\site-packages\\gymnasium\\envs\\registration.py:523: DeprecationWarning: \u001b[33mWARN: The environment BreakoutDeterministic-v0 is out of date. You should consider upgrading to version `v4`.\u001b[0m\n",
      "  logger.deprecation(\n"
     ]
    },
    {
     "ename": "Error",
     "evalue": "We're Unable to find the game \"Breakout\". Note: Gymnasium no longer distributes ROMs. If you own a license to use the necessary ROMs for research purposes you can download them via `pip install gymnasium[accept-rom-license]`. Otherwise, you should try importing \"Breakout\" via the command `ale-import-roms`. If you believe this is a mistake perhaps your copy of \"Breakout\" is unsupported. To check if this is the case try providing the environment variable `PYTHONWARNINGS=default::ImportWarning:ale_py.roms`. For more information see: https://github.com/mgbellemare/Arcade-Learning-Environment#rom-management",
     "output_type": "error",
     "traceback": [
      "\u001b[1;31m---------------------------------------------------------------------------\u001b[0m",
      "\u001b[1;31mError\u001b[0m                                     Traceback (most recent call last)",
      "Cell \u001b[1;32mIn[3], line 6\u001b[0m\n\u001b[0;32m      3\u001b[0m \u001b[39mimport\u001b[39;00m \u001b[39mmatplotlib\u001b[39;00m\u001b[39m.\u001b[39;00m\u001b[39mpyplot\u001b[39;00m \u001b[39mas\u001b[39;00m \u001b[39mplt\u001b[39;00m\n\u001b[0;32m      5\u001b[0m \u001b[39m\"\"\"Create our environment. Basically we define what game we want to play\"\"\"\u001b[39;00m\n\u001b[1;32m----> 6\u001b[0m env \u001b[39m=\u001b[39m gym\u001b[39m.\u001b[39;49mmake(\u001b[39m'\u001b[39;49m\u001b[39mBreakoutDeterministic-v0\u001b[39;49m\u001b[39m'\u001b[39;49m)\n\u001b[0;32m      8\u001b[0m \u001b[39m\"\"\"Reset our environment, notice it returns the first frame of the game\"\"\"\u001b[39;00m\n\u001b[0;32m      9\u001b[0m first_frame \u001b[39m=\u001b[39m env\u001b[39m.\u001b[39mreset()\n",
      "File \u001b[1;32mc:\\Users\\jtutt\\anaconda3\\lib\\site-packages\\gymnasium\\envs\\registration.py:801\u001b[0m, in \u001b[0;36mmake\u001b[1;34m(id, max_episode_steps, autoreset, apply_api_compatibility, disable_env_checker, **kwargs)\u001b[0m\n\u001b[0;32m    798\u001b[0m     render_mode \u001b[39m=\u001b[39m \u001b[39mNone\u001b[39;00m\n\u001b[0;32m    800\u001b[0m \u001b[39mtry\u001b[39;00m:\n\u001b[1;32m--> 801\u001b[0m     env \u001b[39m=\u001b[39m env_creator(\u001b[39m*\u001b[39m\u001b[39m*\u001b[39menv_spec_kwargs)\n\u001b[0;32m    802\u001b[0m \u001b[39mexcept\u001b[39;00m \u001b[39mTypeError\u001b[39;00m \u001b[39mas\u001b[39;00m e:\n\u001b[0;32m    803\u001b[0m     \u001b[39mif\u001b[39;00m (\n\u001b[0;32m    804\u001b[0m         \u001b[39mstr\u001b[39m(e)\u001b[39m.\u001b[39mfind(\u001b[39m\"\u001b[39m\u001b[39mgot an unexpected keyword argument \u001b[39m\u001b[39m'\u001b[39m\u001b[39mrender_mode\u001b[39m\u001b[39m'\u001b[39m\u001b[39m\"\u001b[39m) \u001b[39m>\u001b[39m\u001b[39m=\u001b[39m \u001b[39m0\u001b[39m\n\u001b[0;32m    805\u001b[0m         \u001b[39mand\u001b[39;00m apply_human_rendering\n\u001b[0;32m    806\u001b[0m     ):\n",
      "File \u001b[1;32mc:\\Users\\jtutt\\anaconda3\\lib\\site-packages\\shimmy\\atari_env.py:171\u001b[0m, in \u001b[0;36mAtariEnv.__init__\u001b[1;34m(self, game, mode, difficulty, obs_type, frameskip, repeat_action_probability, full_action_space, max_num_frames_per_episode, render_mode)\u001b[0m\n\u001b[0;32m    168\u001b[0m     \u001b[39mself\u001b[39m\u001b[39m.\u001b[39male\u001b[39m.\u001b[39msetBool(\u001b[39m\"\u001b[39m\u001b[39msound\u001b[39m\u001b[39m\"\u001b[39m, \u001b[39mTrue\u001b[39;00m)\n\u001b[0;32m    170\u001b[0m \u001b[39m# Seed + Load\u001b[39;00m\n\u001b[1;32m--> 171\u001b[0m \u001b[39mself\u001b[39;49m\u001b[39m.\u001b[39;49mseed()\n\u001b[0;32m    173\u001b[0m \u001b[39mif\u001b[39;00m full_action_space:\n\u001b[0;32m    174\u001b[0m     \u001b[39mself\u001b[39m\u001b[39m.\u001b[39m_action_set \u001b[39m=\u001b[39m \u001b[39mself\u001b[39m\u001b[39m.\u001b[39male\u001b[39m.\u001b[39mgetLegalActionSet()\n",
      "File \u001b[1;32mc:\\Users\\jtutt\\anaconda3\\lib\\site-packages\\shimmy\\atari_env.py:216\u001b[0m, in \u001b[0;36mAtariEnv.seed\u001b[1;34m(self, seed)\u001b[0m\n\u001b[0;32m    213\u001b[0m \u001b[39mself\u001b[39m\u001b[39m.\u001b[39male\u001b[39m.\u001b[39msetInt(\u001b[39m\"\u001b[39m\u001b[39mrandom_seed\u001b[39m\u001b[39m\"\u001b[39m, seed2\u001b[39m.\u001b[39mastype(np\u001b[39m.\u001b[39mint32))\n\u001b[0;32m    215\u001b[0m \u001b[39mif\u001b[39;00m \u001b[39mnot\u001b[39;00m \u001b[39mhasattr\u001b[39m(roms, \u001b[39mself\u001b[39m\u001b[39m.\u001b[39m_game):\n\u001b[1;32m--> 216\u001b[0m     \u001b[39mraise\u001b[39;00m Error(\n\u001b[0;32m    217\u001b[0m         \u001b[39mf\u001b[39m\u001b[39m'\u001b[39m\u001b[39mWe\u001b[39m\u001b[39m\\'\u001b[39;00m\u001b[39mre Unable to find the game \u001b[39m\u001b[39m\"\u001b[39m\u001b[39m{\u001b[39;00m\u001b[39mself\u001b[39m\u001b[39m.\u001b[39m_game\u001b[39m}\u001b[39;00m\u001b[39m\"\u001b[39m\u001b[39m. Note: Gymnasium no longer distributes ROMs. \u001b[39m\u001b[39m'\u001b[39m\n\u001b[0;32m    218\u001b[0m         \u001b[39mf\u001b[39m\u001b[39m\"\u001b[39m\u001b[39mIf you own a license to use the necessary ROMs for research purposes you can download them \u001b[39m\u001b[39m\"\u001b[39m\n\u001b[0;32m    219\u001b[0m         \u001b[39mf\u001b[39m\u001b[39m'\u001b[39m\u001b[39mvia `pip install gymnasium[accept-rom-license]`. Otherwise, you should try importing \u001b[39m\u001b[39m\"\u001b[39m\u001b[39m{\u001b[39;00m\u001b[39mself\u001b[39m\u001b[39m.\u001b[39m_game\u001b[39m}\u001b[39;00m\u001b[39m\"\u001b[39m\u001b[39m \u001b[39m\u001b[39m'\u001b[39m\n\u001b[0;32m    220\u001b[0m         \u001b[39mf\u001b[39m\u001b[39m'\u001b[39m\u001b[39mvia the command `ale-import-roms`. If you believe this is a mistake perhaps your copy of \u001b[39m\u001b[39m\"\u001b[39m\u001b[39m{\u001b[39;00m\u001b[39mself\u001b[39m\u001b[39m.\u001b[39m_game\u001b[39m}\u001b[39;00m\u001b[39m\"\u001b[39m\u001b[39m \u001b[39m\u001b[39m'\u001b[39m\n\u001b[0;32m    221\u001b[0m         \u001b[39m\"\u001b[39m\u001b[39mis unsupported. To check if this is the case try providing the environment variable \u001b[39m\u001b[39m\"\u001b[39m\n\u001b[0;32m    222\u001b[0m         \u001b[39m\"\u001b[39m\u001b[39m`PYTHONWARNINGS=default::ImportWarning:ale_py.roms`. For more information see: \u001b[39m\u001b[39m\"\u001b[39m\n\u001b[0;32m    223\u001b[0m         \u001b[39m\"\u001b[39m\u001b[39mhttps://github.com/mgbellemare/Arcade-Learning-Environment#rom-management\u001b[39m\u001b[39m\"\u001b[39m\n\u001b[0;32m    224\u001b[0m     )\n\u001b[0;32m    225\u001b[0m \u001b[39mself\u001b[39m\u001b[39m.\u001b[39male\u001b[39m.\u001b[39mloadROM(\u001b[39mgetattr\u001b[39m(roms, \u001b[39mself\u001b[39m\u001b[39m.\u001b[39m_game))\n\u001b[0;32m    227\u001b[0m \u001b[39mif\u001b[39;00m \u001b[39mself\u001b[39m\u001b[39m.\u001b[39m_game_mode \u001b[39mis\u001b[39;00m \u001b[39mnot\u001b[39;00m \u001b[39mNone\u001b[39;00m:\n",
      "\u001b[1;31mError\u001b[0m: We're Unable to find the game \"Breakout\". Note: Gymnasium no longer distributes ROMs. If you own a license to use the necessary ROMs for research purposes you can download them via `pip install gymnasium[accept-rom-license]`. Otherwise, you should try importing \"Breakout\" via the command `ale-import-roms`. If you believe this is a mistake perhaps your copy of \"Breakout\" is unsupported. To check if this is the case try providing the environment variable `PYTHONWARNINGS=default::ImportWarning:ale_py.roms`. For more information see: https://github.com/mgbellemare/Arcade-Learning-Environment#rom-management"
     ]
    }
   ],
   "source": [
    "import gymnasium as gym\n",
    "import random\n",
    "import matplotlib.pyplot as plt\n",
    "\n",
    "\"\"\"Create our environment. Basically we define what game we want to play\"\"\"\n",
    "env = gym.make('BreakoutDeterministic-v0')\n",
    "\n",
    "\"\"\"Reset our environment, notice it returns the first frame of the game\"\"\"\n",
    "first_frame = env.reset()\n",
    "plt.imshow(first_frame)\n",
    "\n",
    "\"\"\"Now we can take actions using the env.step function. In breakout the actions are:\n",
    "    0 = Stay Still\n",
    "    1 = Start Game/Shoot Ball\n",
    "    2 = Move Right\n",
    "    3 = Move Left\"\"\"\n",
    "    \n",
    "\"\"\"I start the game by step(1), then receive the next frame, reward, done, and info\"\"\"\n",
    "next_frame, next_frames_reward, next_state_terminal, info = env.step(1)\n",
    "plt.imshow(next_frame)\n",
    "print('Reward Recieved = ' + str(next_frames_reward))\n",
    "print('Next state is a terminal state: ' + str(next_state_terminal))\n",
    "print('info[ale.lives] tells us how many lives we have. Lives: ' + str(info['ale.lives']))\n",
    "\n",
    "\"\"\"Now lets take a bunch of random actions and watch the gameplay using render.\n",
    "If the game ends we will reset it using env.reset\"\"\"\n",
    "\n",
    "for i in range(10000):\n",
    "    a = random.sample([0,1,2,3] , 1)[0]\n",
    "    f_p,r,d,info = env.step(a)\n",
    "    env.render(mode='rgb_array')\n",
    "    if d == True:\n",
    "        env.reset()"
   ]
  }
 ],
 "metadata": {
  "kernelspec": {
   "display_name": "base",
   "language": "python",
   "name": "python3"
  },
  "language_info": {
   "codemirror_mode": {
    "name": "ipython",
    "version": 3
   },
   "file_extension": ".py",
   "mimetype": "text/x-python",
   "name": "python",
   "nbconvert_exporter": "python",
   "pygments_lexer": "ipython3",
   "version": "3.10.9"
  },
  "orig_nbformat": 4
 },
 "nbformat": 4,
 "nbformat_minor": 2
}
