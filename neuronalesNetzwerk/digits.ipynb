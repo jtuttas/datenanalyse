{
 "cells": [
  {
   "cell_type": "markdown",
   "metadata": {},
   "source": [
    "# Digits Menge erzeugen"
   ]
  },
  {
   "cell_type": "code",
   "execution_count": 3,
   "metadata": {},
   "outputs": [
    {
     "data": {
      "image/png": "[encoded data removed]",
      "text/plain": [
       "<Figure size 576x576 with 100 Axes>"
      ]
     },
     "metadata": {
      "needs_background": "light"
     },
     "output_type": "display_data"
    }
   ],
   "source": [
    "from sklearn.datasets import load_digits\n",
    "from skimage.io import imshow\n",
    "import matplotlib.pyplot as plt\n",
    "import numpy as np\n",
    "\n",
    "# Handschriftenerkennung laden\n",
    "X, y = load_digits(return_X_y=True)\n",
    "images = X[np.random.choice(len(X), 100, replace=False)]\n",
    "\n",
    "# Bilder anzeigen\n",
    "fig, axes = plt.subplots(10, 10, figsize=(8, 8))\n",
    "ax = axes.ravel()\n",
    "for i, image in enumerate(images):\n",
    "    ax[i].imshow(1 - image.reshape([8, 8]), cmap=plt.cm.gray)\n",
    "    ax[i].axis('off')\n",
    "fig.tight_layout()\n",
    "plt.show()\n"
   ]
  },
  {
   "cell_type": "markdown",
   "metadata": {},
   "source": [
    "# Neuronales Netzwerk trainieren"
   ]
  },
  {
   "cell_type": "code",
   "execution_count": 5,
   "metadata": {},
   "outputs": [
    {
     "name": "stdout",
     "output_type": "stream",
     "text": [
      "163 korrekte Vorhersagen (91.06145251396647%).\n"
     ]
    }
   ],
   "source": [
    "import csv\n",
    "from neural_network import NeuralNetwork\n",
    "from random import shuffle\n",
    "\n",
    "with open('digits.csv', 'r') as digits_file:\n",
    "    reader = csv.reader(digits_file, quoting=csv.QUOTE_NONNUMERIC)\n",
    "    digits = list(reader)\n",
    "shuffle(digits)\n",
    "network = NeuralNetwork(64, 256, 10, learning_rate=0.005)\n",
    "x_test, y_test, x_train, y_train = network.prepare(digits, test_ratio=0.1)\n",
    "for i in range(300):\n",
    "    network.train(x_train, y_train)\n",
    "correct, percent = network.predict(x_test, targets=y_test)\n",
    "print(f\"{correct} korrekte Vorhersagen ({percent}%).\")\n"
   ]
  },
  {
   "cell_type": "markdown",
   "metadata": {},
   "source": [
    "## Nun ein Bild nehmen"
   ]
  },
  {
   "cell_type": "code",
   "execution_count": 70,
   "metadata": {},
   "outputs": [
    {
     "data": {
      "text/plain": [
       "array([ 0.,  0.,  0., 10.,  9.,  0.,  0.,  0.,  0.,  0.,  5., 15.,  0.,\n",
       "        0.,  9.,  5.,  0.,  0., 14., 10.,  0.,  7., 16.,  4.,  0.,  5.,\n",
       "       16.,  7.,  5., 16.,  6.,  0.,  0., 11., 16., 16., 16., 14.,  0.,\n",
       "        0.,  0.,  3.,  4., 11., 16.,  8.,  0.,  0.,  0.,  0.,  0.,  7.,\n",
       "       16.,  2.,  0.,  0.,  0.,  0.,  0., 12., 12.,  0.,  0.,  0.])"
      ]
     },
     "execution_count": 70,
     "metadata": {},
     "output_type": "execute_result"
    }
   ],
   "source": [
    "image = X[np.random.choice(len(X), 1, replace=False)]\n",
    "image[0]"
   ]
  },
  {
   "cell_type": "code",
   "execution_count": 71,
   "metadata": {},
   "outputs": [
    {
     "data": {
      "text/plain": [
       "array([[ 0.,  0.,  0., 10.,  9.,  0.,  0.,  0.],\n",
       "       [ 0.,  0.,  5., 15.,  0.,  0.,  9.,  5.],\n",
       "       [ 0.,  0., 14., 10.,  0.,  7., 16.,  4.],\n",
       "       [ 0.,  5., 16.,  7.,  5., 16.,  6.,  0.],\n",
       "       [ 0., 11., 16., 16., 16., 14.,  0.,  0.],\n",
       "       [ 0.,  3.,  4., 11., 16.,  8.,  0.,  0.],\n",
       "       [ 0.,  0.,  0.,  7., 16.,  2.,  0.,  0.],\n",
       "       [ 0.,  0.,  0., 12., 12.,  0.,  0.,  0.]])"
      ]
     },
     "execution_count": 71,
     "metadata": {},
     "output_type": "execute_result"
    }
   ],
   "source": [
    "a = np.array(image[0])\n",
    "data=a.reshape((8, -1))\n",
    "data"
   ]
  },
  {
   "cell_type": "code",
   "execution_count": 72,
   "metadata": {},
   "outputs": [
    {
     "data": {
      "image/png": "[encoded data removed]",
      "text/plain": [
       "<Figure size 432x288 with 1 Axes>"
      ]
     },
     "metadata": {
      "needs_background": "light"
     },
     "output_type": "display_data"
    }
   ],
   "source": [
    "plt.imshow(data, interpolation='none')\n",
    "plt.show()"
   ]
  },
  {
   "cell_type": "markdown",
   "metadata": {},
   "source": [
    "# Vorhersage des neuronalen Netzwerkes"
   ]
  },
  {
   "cell_type": "code",
   "execution_count": 73,
   "metadata": {},
   "outputs": [
    {
     "data": {
      "text/plain": [
       "[4.0]"
      ]
     },
     "execution_count": 73,
     "metadata": {},
     "output_type": "execute_result"
    }
   ],
   "source": [
    "network.predict(image)"
   ]
  }
 ],
 "metadata": {
  "kernelspec": {
   "display_name": "Python 3.10.6 64-bit (windows store)",
   "language": "python",
   "name": "python3"
  },
  "language_info": {
   "codemirror_mode": {
    "name": "ipython",
    "version": 3
   },
   "file_extension": ".py",
   "mimetype": "text/x-python",
   "name": "python",
   "nbconvert_exporter": "python",
   "pygments_lexer": "ipython3",
   "version": "3.10.6"
  },
  "orig_nbformat": 4,
  "vscode": {
   "interpreter": {
    "hash": "6a9c2b09e717d48387e227ff4e1bafcf8277e1eec0f7861bf0ff38ff503d9bb8"
   }
  }
 },
 "nbformat": 4,
 "nbformat_minor": 2
}
