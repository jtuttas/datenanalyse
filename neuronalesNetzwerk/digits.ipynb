{
 "cells": [
  {
   "cell_type": "markdown",
   "metadata": {},
   "source": [
    "# Digits Menge erzeugen"
   ]
  },
  {
   "cell_type": "code",
   "execution_count": 134,
   "metadata": {},
   "outputs": [
    {
     "data": {
      "image/png": "[encoded data removed]",
      "text/plain": [
       "<Figure size 576x576 with 100 Axes>"
      ]
     },
     "metadata": {
      "needs_background": "light"
     },
     "output_type": "display_data"
    }
   ],
   "source": [
    "from sklearn.datasets import load_digits\n",
    "from skimage.io import imshow\n",
    "import matplotlib.pyplot as plt\n",
    "import numpy as np\n",
    "\n",
    "# Handschriftenerkennung laden\n",
    "X, y = load_digits(return_X_y=True)\n",
    "images = X[np.random.choice(len(X), 100, replace=False)]\n",
    "\n",
    "# Bilder anzeigen\n",
    "fig, axes = plt.subplots(10, 10, figsize=(8, 8))\n",
    "ax = axes.ravel()\n",
    "for i, image in enumerate(images):\n",
    "    ax[i].imshow(1 - image.reshape([8, 8]), cmap=plt.cm.gray)\n",
    "    ax[i].axis('off')\n",
    "fig.tight_layout()\n",
    "plt.show()\n"
   ]
  },
  {
   "cell_type": "markdown",
   "metadata": {},
   "source": [
    "# Neuronales Netzwerk trainieren"
   ]
  },
  {
   "cell_type": "code",
   "execution_count": 135,
   "metadata": {},
   "outputs": [
    {
     "name": "stdout",
     "output_type": "stream",
     "text": [
      "147 korrekte Vorhersagen (82.12290502793296%).\n"
     ]
    }
   ],
   "source": [
    "import csv\n",
    "from neural_network import NeuralNetwork\n",
    "from random import shuffle\n",
    "\n",
    "with open('digits.csv', 'r') as digits_file:\n",
    "    reader = csv.reader(digits_file, quoting=csv.QUOTE_NONNUMERIC)\n",
    "    digits = list(reader)\n",
    "shuffle(digits)\n",
    "network = NeuralNetwork(64, 256, 10, learning_rate=0.005)\n",
    "x_test, y_test, x_train, y_train = network.prepare(digits, test_ratio=0.1)\n",
    "for i in range(300):\n",
    "    network.train(x_train, y_train)\n",
    "correct, percent = network.predict(x_test, targets=y_test)\n",
    "print(f\"{correct} korrekte Vorhersagen ({percent}%).\")\n"
   ]
  },
  {
   "cell_type": "markdown",
   "metadata": {},
   "source": [
    "## Nun ein Bild nehmen"
   ]
  },
  {
   "cell_type": "code",
   "execution_count": 136,
   "metadata": {},
   "outputs": [
    {
     "data": {
      "text/plain": [
       "array([ 0.,  0., 15., 12., 11.,  6.,  2.,  0.,  0.,  4., 16., 15., 12.,\n",
       "       12., 10.,  0.,  0.,  7., 14.,  1.,  0.,  0.,  0.,  0.,  0., 10.,\n",
       "       12.,  3.,  1.,  0.,  0.,  0.,  0.,  8., 16., 16., 14.,  2.,  0.,\n",
       "        0.,  0.,  1.,  8.,  8., 16.,  8.,  0.,  0.,  0.,  0.,  1., 11.,\n",
       "       15.,  2.,  0.,  0.,  0.,  0., 13., 16.,  6.,  0.,  0.,  0.])"
      ]
     },
     "execution_count": 136,
     "metadata": {},
     "output_type": "execute_result"
    }
   ],
   "source": [
    "image = X[np.random.choice(len(X), 1, replace=False)]\n",
    "image[0]"
   ]
  },
  {
   "cell_type": "code",
   "execution_count": 137,
   "metadata": {},
   "outputs": [
    {
     "data": {
      "text/plain": [
       "array([[ 0.,  0., 15., 12., 11.,  6.,  2.,  0.],\n",
       "       [ 0.,  4., 16., 15., 12., 12., 10.,  0.],\n",
       "       [ 0.,  7., 14.,  1.,  0.,  0.,  0.,  0.],\n",
       "       [ 0., 10., 12.,  3.,  1.,  0.,  0.,  0.],\n",
       "       [ 0.,  8., 16., 16., 14.,  2.,  0.,  0.],\n",
       "       [ 0.,  1.,  8.,  8., 16.,  8.,  0.,  0.],\n",
       "       [ 0.,  0.,  1., 11., 15.,  2.,  0.,  0.],\n",
       "       [ 0.,  0., 13., 16.,  6.,  0.,  0.,  0.]])"
      ]
     },
     "execution_count": 137,
     "metadata": {},
     "output_type": "execute_result"
    }
   ],
   "source": [
    "a = np.array(image[0])\n",
    "data=a.reshape((8, -1))\n",
    "data"
   ]
  },
  {
   "cell_type": "code",
   "execution_count": 138,
   "metadata": {},
   "outputs": [
    {
     "data": {
      "image/png": "[encoded data removed]",
      "text/plain": [
       "<Figure size 432x288 with 1 Axes>"
      ]
     },
     "metadata": {
      "needs_background": "light"
     },
     "output_type": "display_data"
    }
   ],
   "source": [
    "plt.imshow(data, interpolation='none')\n",
    "plt.axis('off')\n",
    "plt.show()"
   ]
  },
  {
   "cell_type": "markdown",
   "metadata": {},
   "source": [
    "# Vorhersage des neuronalen Netzwerkes"
   ]
  },
  {
   "cell_type": "code",
   "execution_count": 139,
   "metadata": {},
   "outputs": [
    {
     "data": {
      "text/plain": [
       "[5.0]"
      ]
     },
     "execution_count": 139,
     "metadata": {},
     "output_type": "execute_result"
    }
   ],
   "source": [
    "network.predict(image)"
   ]
  },
  {
   "cell_type": "markdown",
   "metadata": {},
   "source": [
    "# Testen mit selbst gezeichneten Bild"
   ]
  },
  {
   "cell_type": "code",
   "execution_count": 140,
   "metadata": {},
   "outputs": [
    {
     "data": {
      "image/png": "[encoded data removed]",
      "text/plain": [
       "<Figure size 432x288 with 1 Axes>"
      ]
     },
     "metadata": {
      "needs_background": "light"
     },
     "output_type": "display_data"
    }
   ],
   "source": [
    "import matplotlib.image as mpimg\n",
    "\n",
    "img = mpimg.imread('sieben.tif')\n",
    "imgplot = plt.imshow(img)\n",
    "plt.axis('off')\n",
    "plt.show()"
   ]
  },
  {
   "cell_type": "code",
   "execution_count": 141,
   "metadata": {},
   "outputs": [
    {
     "data": {
      "text/plain": [
       "array([[[ 99,  99,  99, 255],\n",
       "        [214, 214, 214, 255],\n",
       "        [214, 214, 214, 255],\n",
       "        [206, 206, 206, 255],\n",
       "        [206, 206, 206, 255],\n",
       "        [214, 214, 214, 255],\n",
       "        [231, 231, 231, 255],\n",
       "        [ 57,  57,  57, 255]],\n",
       "\n",
       "       [[  0,   0,   0, 255],\n",
       "        [  0,   0,   0, 255],\n",
       "        [  8,   8,   8, 255],\n",
       "        [  8,   8,   8, 255],\n",
       "        [  8,   8,   8, 255],\n",
       "        [132, 132, 132, 255],\n",
       "        [156, 156, 156, 255],\n",
       "        [  0,   0,   0, 255]],\n",
       "\n",
       "       [[  0,   0,   0, 255],\n",
       "        [  0,   0,   0, 255],\n",
       "        [  0,   0,   0, 255],\n",
       "        [  0,   0,   0, 255],\n",
       "        [ 99,  99,  99, 255],\n",
       "        [173, 173, 173, 255],\n",
       "        [  0,   0,   0, 255],\n",
       "        [  0,   0,   0, 255]],\n",
       "\n",
       "       [[  0,   0,   0, 255],\n",
       "        [ 41,  41,  41, 255],\n",
       "        [165, 165, 165, 255],\n",
       "        [165, 165, 165, 255],\n",
       "        [255, 255, 255, 255],\n",
       "        [156, 156, 156, 255],\n",
       "        [  8,   8,   8, 255],\n",
       "        [  0,   0,   0, 255]],\n",
       "\n",
       "       [[  0,   0,   0, 255],\n",
       "        [  8,   8,   8, 255],\n",
       "        [ 82,  82,  82, 255],\n",
       "        [231, 231, 231, 255],\n",
       "        [ 66,  66,  66, 255],\n",
       "        [ 66,  66,  66, 255],\n",
       "        [  0,   0,   0, 255],\n",
       "        [  0,   0,   0, 255]],\n",
       "\n",
       "       [[  0,   0,   0, 255],\n",
       "        [  8,   8,   8, 255],\n",
       "        [206, 206, 206, 255],\n",
       "        [ 57,  57,  57, 255],\n",
       "        [  0,   0,   0, 255],\n",
       "        [  0,   0,   0, 255],\n",
       "        [  0,   0,   0, 255],\n",
       "        [  0,   0,   0, 255]],\n",
       "\n",
       "       [[  0,   0,   0, 255],\n",
       "        [165, 165, 165, 255],\n",
       "        [ 99,  99,  99, 255],\n",
       "        [  0,   0,   0, 255],\n",
       "        [  0,   0,   0, 255],\n",
       "        [  0,   0,   0, 255],\n",
       "        [  0,   0,   0, 255],\n",
       "        [  0,   0,   0, 255]],\n",
       "\n",
       "       [[ 82,  82,  82, 255],\n",
       "        [156, 156, 156, 255],\n",
       "        [  0,   0,   0, 255],\n",
       "        [  0,   0,   0, 255],\n",
       "        [  0,   0,   0, 255],\n",
       "        [  0,   0,   0, 255],\n",
       "        [  0,   0,   0, 255],\n",
       "        [  0,   0,   0, 255]]], dtype=uint8)"
      ]
     },
     "execution_count": 141,
     "metadata": {},
     "output_type": "execute_result"
    }
   ],
   "source": [
    "img"
   ]
  },
  {
   "cell_type": "markdown",
   "metadata": {},
   "source": [
    "# Daten umwandeln damit ein eindimensionales Arrays mit den Werten 0 bis 15 entsteht"
   ]
  },
  {
   "cell_type": "code",
   "execution_count": 142,
   "metadata": {},
   "outputs": [
    {
     "data": {
      "text/plain": [
       "array([ 6, 13, 13, 12, 12, 13, 14,  3,  0,  0,  0,  0,  0,  8,  9,  0,  0,\n",
       "        0,  0,  0,  6, 10,  0,  0,  0,  2, 10, 10, 15,  9,  0,  0,  0,  0,\n",
       "        5, 14,  4,  4,  0,  0,  0,  0, 12,  3,  0,  0,  0,  0,  0, 10,  6,\n",
       "        0,  0,  0,  0,  0,  5,  9,  0,  0,  0,  0,  0,  0])"
      ]
     },
     "execution_count": 142,
     "metadata": {},
     "output_type": "execute_result"
    }
   ],
   "source": [
    "cdata =[]\n",
    "for x in img:\n",
    "    for y in x:\n",
    "        cdata.append(int(y[0]/16))\n",
    "npdata=np.array(cdata)\n",
    "npdata"
   ]
  },
  {
   "cell_type": "markdown",
   "metadata": {},
   "source": [
    "# ... und vorhersagen"
   ]
  },
  {
   "cell_type": "code",
   "execution_count": 143,
   "metadata": {},
   "outputs": [
    {
     "data": {
      "text/plain": [
       "[7.0]"
      ]
     },
     "execution_count": 143,
     "metadata": {},
     "output_type": "execute_result"
    }
   ],
   "source": [
    "network.predict(npdata)"
   ]
  }
 ],
 "metadata": {
  "kernelspec": {
   "display_name": "Python 3.10.6 64-bit (windows store)",
   "language": "python",
   "name": "python3"
  },
  "language_info": {
   "codemirror_mode": {
    "name": "ipython",
    "version": 3
   },
   "file_extension": ".py",
   "mimetype": "text/x-python",
   "name": "python",
   "nbconvert_exporter": "python",
   "pygments_lexer": "ipython3",
   "version": "3.10.6"
  },
  "orig_nbformat": 4,
  "vscode": {
   "interpreter": {
    "hash": "6a9c2b09e717d48387e227ff4e1bafcf8277e1eec0f7861bf0ff38ff503d9bb8"
   }
  }
 },
 "nbformat": 4,
 "nbformat_minor": 2
}
