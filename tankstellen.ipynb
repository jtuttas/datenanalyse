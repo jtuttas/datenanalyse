{
 "cells": [
  {
   "cell_type": "code",
   "execution_count": 5,
   "metadata": {},
   "outputs": [
    {
     "name": "stdout",
     "output_type": "stream",
     "text": [
      "200\n"
     ]
    }
   ],
   "source": [
    "import requests\n",
    "\n",
    "x = requests.get('https://creativecommons.tankerkoenig.de/json/list.php?lat=52.340&lng=9.839&rad=2.5&sort=dist&type=all&apikey=00000000-0000-0000-0000-000000000002')\n",
    "print(x.status_code)"
   ]
  },
  {
   "cell_type": "markdown",
   "metadata": {},
   "source": [
    "# JSON Antwort anzeigen"
   ]
  },
  {
   "cell_type": "code",
   "execution_count": 8,
   "metadata": {},
   "outputs": [
    {
     "name": "stdout",
     "output_type": "stream",
     "text": [
      "{'ok': True, 'license': 'CC BY 4.0 -  https://creativecommons.tankerkoenig.de', 'data': 'MTS-K', 'status': 'ok', 'stations': [{'id': 'a9c1d318-d7ad-4083-a40a-9b3addd64784', 'name': 'Esso Tankstelle', 'brand': 'ESSO', 'street': 'BRABECKSTR. 155', 'place': 'HANNOVER', 'lat': 52.343697, 'lng': 9.827638, 'dist': 0.9, 'diesel': 1.009, 'e5': 1.009, 'e10': 1.009, 'isOpen': True, 'houseNumber': '', 'postCode': 30539}, {'id': 'cfa4e8fc-6e76-42d3-8dea-f964edfefe13', 'name': 'Shell Hannover A7 Hannover-Wuelferode West', 'brand': 'Shell', 'street': 'A7 Hannover-Wuelferode West', 'place': 'Hannover', 'lat': 52.340283, 'lng': 9.865311, 'dist': 1.8, 'diesel': 1.009, 'e5': 1.009, 'e10': 1.009, 'isOpen': True, 'houseNumber': '', 'postCode': 30539}, {'id': '4446f625-5602-426b-a197-4f4484c4b851', 'name': 'Shell Hannover Wülfeler Str. 80', 'brand': 'Shell', 'street': 'Wülfeler Str.', 'place': 'Hannover', 'lat': 52.338002, 'lng': 9.81252, 'dist': 1.8, 'diesel': 1.009, 'e5': 1.009, 'e10': 1.009, 'isOpen': True, 'houseNumber': '80', 'postCode': 30539}, {'id': 'b7fa32cf-416d-499e-dcbc-af2cc55ac29c', 'name': 'Tankstelle H.-Kirchrode', 'brand': 'JOISS', 'street': 'Brabeckstr.', 'place': 'Hannover', 'lat': 52.355959, 'lng': 9.827709, 'dist': 1.9, 'diesel': 1.009, 'e5': 1.009, 'e10': 1.009, 'isOpen': True, 'houseNumber': '39', 'postCode': 30559}, {'id': '7d2ee702-8e3d-4de6-94ac-5ebc6680c0ad', 'name': 'Hannover-Wülferode Ost', 'brand': 'TOTAL', 'street': 'BAB A7', 'place': 'Hannover', 'lat': 52.33206, 'lng': 9.86459, 'dist': 1.9, 'diesel': 1.009, 'e5': 1.009, 'e10': 1.009, 'isOpen': True, 'houseNumber': '', 'postCode': 30539}, {'id': '119a159e-3393-4f9c-921e-2f9f28bea7b5', 'name': 'Aral Tankstelle', 'brand': 'ARAL', 'street': 'Messeschnellweg-West', 'place': 'Hannover', 'lat': 52.3296127, 'lng': 9.812187, 'dist': 2.2, 'diesel': 1.009, 'e5': 1.009, 'e10': 1.009, 'isOpen': True, 'houseNumber': '', 'postCode': 30521}]}\n"
     ]
    }
   ],
   "source": [
    "data = x.json()\n",
    "print(data)"
   ]
  },
  {
   "cell_type": "markdown",
   "metadata": {},
   "source": [
    "# Anzeigen auf Map"
   ]
  },
  {
   "cell_type": "code",
   "execution_count": 15,
   "metadata": {},
   "outputs": [
    {
     "ename": "ModuleNotFoundError",
     "evalue": "No module named 'osmnx'",
     "output_type": "error",
     "traceback": [
      "\u001b[1;31m---------------------------------------------------------------------------\u001b[0m",
      "\u001b[1;31mModuleNotFoundError\u001b[0m                       Traceback (most recent call last)",
      "\u001b[1;32md:\\Dokumente\\Code\\Datenanalyse\\tankstellen.ipynb Zelle 5\u001b[0m in \u001b[0;36m<cell line: 1>\u001b[1;34m()\u001b[0m\n\u001b[1;32m----> <a href='vscode-notebook-cell:/d%3A/Dokumente/Code/Datenanalyse/tankstellen.ipynb#ch0000005?line=0'>1</a>\u001b[0m \u001b[39mimport\u001b[39;00m \u001b[39mosmnx\u001b[39;00m \u001b[39mas\u001b[39;00m \u001b[39mox\u001b[39;00m\n",
      "\u001b[1;31mModuleNotFoundError\u001b[0m: No module named 'osmnx'"
     ]
    }
   ],
   "source": [
    " import osmnx as ox"
   ]
  },
  {
   "cell_type": "markdown",
   "metadata": {},
   "source": []
  },
  {
   "cell_type": "code",
   "execution_count": 14,
   "metadata": {},
   "outputs": [
    {
     "ename": "ModuleNotFoundError",
     "evalue": "No module named 'osm'",
     "output_type": "error",
     "traceback": [
      "\u001b[1;31m---------------------------------------------------------------------------\u001b[0m",
      "\u001b[1;31mModuleNotFoundError\u001b[0m                       Traceback (most recent call last)",
      "\u001b[1;32md:\\Dokumente\\Code\\Datenanalyse\\tankstellen.ipynb Zelle 7\u001b[0m in \u001b[0;36m<cell line: 2>\u001b[1;34m()\u001b[0m\n\u001b[0;32m      <a href='vscode-notebook-cell:/d%3A/Dokumente/Code/Datenanalyse/tankstellen.ipynb#ch0000007?line=0'>1</a>\u001b[0m \u001b[39mimport\u001b[39;00m \u001b[39mmatplotlib\u001b[39;00m\u001b[39m.\u001b[39;00m\u001b[39mpyplot\u001b[39;00m \u001b[39mas\u001b[39;00m \u001b[39mplt\u001b[39;00m\n\u001b[1;32m----> <a href='vscode-notebook-cell:/d%3A/Dokumente/Code/Datenanalyse/tankstellen.ipynb#ch0000007?line=1'>2</a>\u001b[0m \u001b[39mfrom\u001b[39;00m \u001b[39mosm\u001b[39;00m \u001b[39mimport\u001b[39;00m OSM\n\u001b[0;32m      <a href='vscode-notebook-cell:/d%3A/Dokumente/Code/Datenanalyse/tankstellen.ipynb#ch0000007?line=3'>4</a>\u001b[0m ax \u001b[39m=\u001b[39m plt\u001b[39m.\u001b[39mgca()\n\u001b[0;32m      <a href='vscode-notebook-cell:/d%3A/Dokumente/Code/Datenanalyse/tankstellen.ipynb#ch0000007?line=4'>5</a>\u001b[0m ax\u001b[39m.\u001b[39mosm \u001b[39m=\u001b[39m OSM(ax)\n",
      "\u001b[1;31mModuleNotFoundError\u001b[0m: No module named 'osm'"
     ]
    }
   ],
   "source": [
    "import matplotlib.pyplot as plt\n",
    "from osm import OSM\n",
    "\n",
    "ax = plt.gca()\n",
    "ax.osm = OSM(ax)\n",
    "ax.set_aspect('equal')\n",
    "ax.set_xlim(34, 36)\n",
    "ax.set_ylim(29.5, 34)\n",
    "ax.osm.draw()"
   ]
  }
 ],
 "metadata": {
  "kernelspec": {
   "display_name": "Python 3.10.5 64-bit (windows store)",
   "language": "python",
   "name": "python3"
  },
  "language_info": {
   "codemirror_mode": {
    "name": "ipython",
    "version": 3
   },
   "file_extension": ".py",
   "mimetype": "text/x-python",
   "name": "python",
   "nbconvert_exporter": "python",
   "pygments_lexer": "ipython3",
   "version": "3.10.5"
  },
  "orig_nbformat": 4,
  "vscode": {
   "interpreter": {
    "hash": "6a9c2b09e717d48387e227ff4e1bafcf8277e1eec0f7861bf0ff38ff503d9bb8"
   }
  }
 },
 "nbformat": 4,
 "nbformat_minor": 2
}
